{
 "cells": [
  {
   "cell_type": "markdown",
   "id": "04b39577-68b1-42b6-be94-cce802a1d988",
   "metadata": {},
   "source": [
    "# string slicing"
   ]
  },
  {
   "cell_type": "code",
   "execution_count": 12,
   "id": "edb3f562-133b-457f-9160-0df45411001f",
   "metadata": {},
   "outputs": [
    {
     "data": {
      "text/plain": [
       "'sayali'"
      ]
     },
     "execution_count": 12,
     "metadata": {},
     "output_type": "execute_result"
    }
   ],
   "source": [
    "s = 'sayali'\n",
    "s"
   ]
  },
  {
   "cell_type": "code",
   "execution_count": 13,
   "id": "84cfbfcf-e78e-4bbc-ad86-93128e44fa26",
   "metadata": {},
   "outputs": [
    {
     "data": {
      "text/plain": [
       "'sayali'"
      ]
     },
     "execution_count": 13,
     "metadata": {},
     "output_type": "execute_result"
    }
   ],
   "source": [
    "s"
   ]
  },
  {
   "cell_type": "code",
   "execution_count": 14,
   "id": "4234aca1-b2f2-4001-a35d-268f54ed8790",
   "metadata": {},
   "outputs": [
    {
     "data": {
      "text/plain": [
       "'s'"
      ]
     },
     "execution_count": 14,
     "metadata": {},
     "output_type": "execute_result"
    }
   ],
   "source": [
    "s[0]"
   ]
  },
  {
   "cell_type": "code",
   "execution_count": 15,
   "id": "81eb8155-dded-42cf-9f8b-484aed86236c",
   "metadata": {},
   "outputs": [
    {
     "data": {
      "text/plain": [
       "'i'"
      ]
     },
     "execution_count": 15,
     "metadata": {},
     "output_type": "execute_result"
    }
   ],
   "source": [
    "s[-1]"
   ]
  },
  {
   "cell_type": "code",
   "execution_count": 16,
   "id": "afd2caff-c3aa-40b9-9d6c-f2b5bc9bdac2",
   "metadata": {},
   "outputs": [
    {
     "ename": "IndexError",
     "evalue": "string index out of range",
     "output_type": "error",
     "traceback": [
      "\u001b[1;31m---------------------------------------------------------------------------\u001b[0m",
      "\u001b[1;31mIndexError\u001b[0m                                Traceback (most recent call last)",
      "Cell \u001b[1;32mIn[16], line 1\u001b[0m\n\u001b[1;32m----> 1\u001b[0m s[\u001b[38;5;241m10\u001b[39m]\n",
      "\u001b[1;31mIndexError\u001b[0m: string index out of range"
     ]
    }
   ],
   "source": [
    "s[10] # 10 index doesn't exist in given string"
   ]
  },
  {
   "cell_type": "code",
   "execution_count": 17,
   "id": "3ba19dab-7c0f-4f92-a782-929470e98e00",
   "metadata": {},
   "outputs": [
    {
     "data": {
      "text/plain": [
       "'sayali'"
      ]
     },
     "execution_count": 17,
     "metadata": {},
     "output_type": "execute_result"
    }
   ],
   "source": [
    "s "
   ]
  },
  {
   "cell_type": "code",
   "execution_count": 18,
   "id": "b9211f88-4af8-40eb-841b-cc30d864cc27",
   "metadata": {},
   "outputs": [
    {
     "data": {
      "text/plain": [
       "'sayali'"
      ]
     },
     "execution_count": 18,
     "metadata": {},
     "output_type": "execute_result"
    }
   ],
   "source": [
    "s[:]"
   ]
  },
  {
   "cell_type": "code",
   "execution_count": 20,
   "id": "78531e2e-84eb-4c9e-898d-d088ed9ff48e",
   "metadata": {},
   "outputs": [
    {
     "data": {
      "text/plain": [
       "'ya'"
      ]
     },
     "execution_count": 20,
     "metadata": {},
     "output_type": "execute_result"
    }
   ],
   "source": [
    "s [2:4]"
   ]
  },
  {
   "cell_type": "code",
   "execution_count": 21,
   "id": "e9a4198a-d5ea-40ce-8efb-18ac26ec0053",
   "metadata": {},
   "outputs": [
    {
     "data": {
      "text/plain": [
       "'sayali'"
      ]
     },
     "execution_count": 21,
     "metadata": {},
     "output_type": "execute_result"
    }
   ],
   "source": [
    "s"
   ]
  },
  {
   "cell_type": "code",
   "execution_count": 23,
   "id": "9e115132-f3a1-4ebf-b0e8-5ae3918bb1ea",
   "metadata": {},
   "outputs": [
    {
     "name": "stdout",
     "output_type": "stream",
     "text": [
      "s\n",
      "a\n",
      "y\n",
      "a\n",
      "l\n",
      "i\n"
     ]
    }
   ],
   "source": [
    "print(s[0])\n",
    "print(s[1])\n",
    "print(s[2])\n",
    "print(s[3])\n",
    "print(s[4])\n",
    "print(s[5])"
   ]
  },
  {
   "cell_type": "code",
   "execution_count": 24,
   "id": "eb87a03c-3afd-4298-9175-35f95dca5a1a",
   "metadata": {},
   "outputs": [
    {
     "data": {
      "text/plain": [
       "'sayali'"
      ]
     },
     "execution_count": 24,
     "metadata": {},
     "output_type": "execute_result"
    }
   ],
   "source": [
    "s"
   ]
  },
  {
   "cell_type": "code",
   "execution_count": 25,
   "id": "54e4b44f-dae9-4637-8ebd-4134c5a79753",
   "metadata": {},
   "outputs": [
    {
     "name": "stdout",
     "output_type": "stream",
     "text": [
      "s\n",
      "a\n",
      "y\n",
      "a\n",
      "l\n",
      "i\n"
     ]
    }
   ],
   "source": [
    "for i in s:\n",
    "    print(i)"
   ]
  },
  {
   "cell_type": "code",
   "execution_count": 26,
   "id": "6b11a7cf-18ce-406d-a704-1af452845c14",
   "metadata": {},
   "outputs": [
    {
     "data": {
      "text/plain": [
       "'sayali'"
      ]
     },
     "execution_count": 26,
     "metadata": {},
     "output_type": "execute_result"
    }
   ],
   "source": [
    "s"
   ]
  },
  {
   "cell_type": "code",
   "execution_count": 29,
   "id": "5cd8197c-50b1-4e08-9321-0f611815e875",
   "metadata": {},
   "outputs": [
    {
     "data": {
      "text/plain": [
       "'nade'"
      ]
     },
     "execution_count": 29,
     "metadata": {},
     "output_type": "execute_result"
    }
   ],
   "source": [
    "s1 = 'nade'\n",
    "s1"
   ]
  },
  {
   "cell_type": "code",
   "execution_count": 30,
   "id": "4589a52f-289a-4d3b-93dd-c4ac30d32829",
   "metadata": {},
   "outputs": [
    {
     "data": {
      "text/plain": [
       "'sayalinade'"
      ]
     },
     "execution_count": 30,
     "metadata": {},
     "output_type": "execute_result"
    }
   ],
   "source": [
    "s + s1"
   ]
  },
  {
   "cell_type": "code",
   "execution_count": 32,
   "id": "eee19862-d111-4546-8759-58c3f38cd56a",
   "metadata": {},
   "outputs": [
    {
     "data": {
      "text/plain": [
       "'sayalinade'"
      ]
     },
     "execution_count": 32,
     "metadata": {},
     "output_type": "execute_result"
    }
   ],
   "source": [
    "s3 = s +s1\n",
    "s3"
   ]
  },
  {
   "cell_type": "code",
   "execution_count": 33,
   "id": "bf643a4e-5c5c-46a8-8861-de75f18b0942",
   "metadata": {},
   "outputs": [
    {
     "data": {
      "text/plain": [
       "['s', 't', 'u']"
      ]
     },
     "execution_count": 33,
     "metadata": {},
     "output_type": "execute_result"
    }
   ],
   "source": [
    "s2 =['s','t','u']\n",
    "s2"
   ]
  },
  {
   "cell_type": "code",
   "execution_count": 34,
   "id": "1cc1e27a-16ab-4517-bcf1-eefb7e239b57",
   "metadata": {},
   "outputs": [
    {
     "data": {
      "text/plain": [
       "['t', 'u']"
      ]
     },
     "execution_count": 34,
     "metadata": {},
     "output_type": "execute_result"
    }
   ],
   "source": [
    "s2 [1:5]"
   ]
  },
  {
   "cell_type": "code",
   "execution_count": null,
   "id": "115f95fc-4795-4961-8c03-b08597c467b3",
   "metadata": {},
   "outputs": [],
   "source": []
  }
 ],
 "metadata": {
  "kernelspec": {
   "display_name": "Python [conda env:base] *",
   "language": "python",
   "name": "conda-base-py"
  },
  "language_info": {
   "codemirror_mode": {
    "name": "ipython",
    "version": 3
   },
   "file_extension": ".py",
   "mimetype": "text/x-python",
   "name": "python",
   "nbconvert_exporter": "python",
   "pygments_lexer": "ipython3",
   "version": "3.13.5"
  }
 },
 "nbformat": 4,
 "nbformat_minor": 5
}
