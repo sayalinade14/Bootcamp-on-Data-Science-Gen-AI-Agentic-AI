{
 "cells": [
  {
   "cell_type": "markdown",
   "id": "953f7ee9-d15e-4068-b2c7-3bb5a4f02f39",
   "metadata": {},
   "source": [
    "# Complex"
   ]
  },
  {
   "cell_type": "code",
   "execution_count": 1,
   "id": "0440b832-1ff2-4bd4-8207-c444735c37e6",
   "metadata": {},
   "outputs": [],
   "source": [
    "c = 4 + 2j"
   ]
  },
  {
   "cell_type": "code",
   "execution_count": 2,
   "id": "b84ab27f-5c4a-46f7-bae9-b7507375acc4",
   "metadata": {},
   "outputs": [
    {
     "data": {
      "text/plain": [
       "complex"
      ]
     },
     "execution_count": 2,
     "metadata": {},
     "output_type": "execute_result"
    }
   ],
   "source": [
    "type(c)"
   ]
  },
  {
   "cell_type": "code",
   "execution_count": 3,
   "id": "3b2cf4af-9264-4fc9-9db3-03eff043695b",
   "metadata": {},
   "outputs": [
    {
     "name": "stdout",
     "output_type": "stream",
     "text": [
      "4.0\n",
      "2.0\n"
     ]
    }
   ],
   "source": [
    "c = 4 + 2j\n",
    "print (c.real)\n",
    "print (c.imag)"
   ]
  },
  {
   "cell_type": "code",
   "execution_count": 4,
   "id": "3a726fa3-c6b2-4b13-8400-85c652bc41f4",
   "metadata": {},
   "outputs": [
    {
     "name": "stdout",
     "output_type": "stream",
     "text": [
      "(8+7j)\n"
     ]
    }
   ],
   "source": [
    "a = 2 + 4j\n",
    "b = 6 + 3j\n",
    "print (a + b) #addition"
   ]
  },
  {
   "cell_type": "code",
   "execution_count": 5,
   "id": "27db0fb1-c573-4f4a-9312-4c3459772fd5",
   "metadata": {},
   "outputs": [
    {
     "name": "stdout",
     "output_type": "stream",
     "text": [
      "(-4+1j)\n"
     ]
    }
   ],
   "source": [
    "a = 2 + 4j\n",
    "b = 6 + 3j\n",
    "print (a - b) #substraction"
   ]
  },
  {
   "cell_type": "code",
   "execution_count": 8,
   "id": "3301a86c-4fd8-4c2a-b0e4-94dcc3a6e00a",
   "metadata": {},
   "outputs": [
    {
     "name": "stdout",
     "output_type": "stream",
     "text": [
      "30j\n"
     ]
    }
   ],
   "source": [
    "a = 2 + 4j\n",
    "b = 6 + 3j\n",
    "print (a * b)  #multiplication"
   ]
  },
  {
   "cell_type": "code",
   "execution_count": 9,
   "id": "9ab49025-2f70-493d-8eb5-79cd71dd0650",
   "metadata": {},
   "outputs": [
    {
     "name": "stdout",
     "output_type": "stream",
     "text": [
      "(0.5333333333333333+0.4j)\n"
     ]
    }
   ],
   "source": [
    "a = 2 + 4j\n",
    "b = 6 + 3j\n",
    "print (a / b) #division"
   ]
  },
  {
   "cell_type": "code",
   "execution_count": 15,
   "id": "84f92576-6259-48f1-97cb-0d456a2c7b59",
   "metadata": {},
   "outputs": [
    {
     "name": "stdout",
     "output_type": "stream",
     "text": [
      "4.47213595499958\n"
     ]
    }
   ],
   "source": [
    "c = 4 + 2j\n",
    "print (abs(c))\n"
   ]
  },
  {
   "cell_type": "code",
   "execution_count": null,
   "id": "edb1b52a-b27d-4e09-bda8-fdef4ad881cc",
   "metadata": {},
   "outputs": [],
   "source": []
  },
  {
   "cell_type": "code",
   "execution_count": null,
   "id": "dba97bf2-014f-462a-91da-826f3679664c",
   "metadata": {},
   "outputs": [],
   "source": []
  }
 ],
 "metadata": {
  "kernelspec": {
   "display_name": "Python [conda env:base] *",
   "language": "python",
   "name": "conda-base-py"
  },
  "language_info": {
   "codemirror_mode": {
    "name": "ipython",
    "version": 3
   },
   "file_extension": ".py",
   "mimetype": "text/x-python",
   "name": "python",
   "nbconvert_exporter": "python",
   "pygments_lexer": "ipython3",
   "version": "3.13.5"
  }
 },
 "nbformat": 4,
 "nbformat_minor": 5
}
