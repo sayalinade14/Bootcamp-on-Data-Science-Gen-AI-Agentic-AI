{
 "cells": [
  {
   "cell_type": "markdown",
   "id": "1a7fb666-c9bb-4136-be64-01a762f0da9f",
   "metadata": {},
   "source": [
    "# python tutorial"
   ]
  },
  {
   "cell_type": "code",
   "execution_count": 3,
   "id": "0c76ac62-0b40-46a2-beee-df8a3a5b47f2",
   "metadata": {},
   "outputs": [],
   "source": [
    "import sys \n",
    "import keyword \n",
    "import operator \n",
    "from datetime import datetime \n",
    "import os "
   ]
  },
  {
   "cell_type": "code",
   "execution_count": 9,
   "id": "6ddc5311-9107-4a07-a78a-3328c28fea3d",
   "metadata": {},
   "outputs": [
    {
     "name": "stdout",
     "output_type": "stream",
     "text": [
      "False\n",
      "None\n",
      "True\n",
      "and\n",
      "as\n",
      "assert\n",
      "async\n",
      "await\n",
      "break\n",
      "class\n",
      "continue\n",
      "def\n",
      "del\n",
      "elif\n",
      "else\n",
      "except\n",
      "finally\n",
      "for\n",
      "from\n",
      "global\n",
      "if\n",
      "import\n",
      "in\n",
      "is\n",
      "lambda\n",
      "nonlocal\n",
      "not\n",
      "or\n",
      "pass\n",
      "raise\n",
      "return\n",
      "try\n",
      "while\n",
      "with\n",
      "yield\n"
     ]
    }
   ],
   "source": [
    "import keyword\n",
    "\n",
    "for kw in keyword.kwlist:\n",
    "    print(kw)"
   ]
  },
  {
   "cell_type": "code",
   "execution_count": 10,
   "id": "23607486-ba69-411d-b9c5-028b308274ac",
   "metadata": {},
   "outputs": [
    {
     "data": {
      "text/plain": [
       "35"
      ]
     },
     "execution_count": 10,
     "metadata": {},
     "output_type": "execute_result"
    }
   ],
   "source": [
    "len(keyword.kwlist)"
   ]
  },
  {
   "cell_type": "markdown",
   "id": "2ed8a5e4-de3e-4c2e-888c-89ac63748053",
   "metadata": {},
   "source": [
    "# identifiers"
   ]
  },
  {
   "cell_type": "code",
   "execution_count": 11,
   "id": "5e3734e0-2d2f-406a-96fe-c52eb6bcab77",
   "metadata": {},
   "outputs": [
    {
     "ename": "SyntaxError",
     "evalue": "invalid decimal literal (183070916.py, line 1)",
     "output_type": "error",
     "traceback": [
      "\u001b[1;36m  Cell \u001b[1;32mIn[11], line 1\u001b[1;36m\u001b[0m\n\u001b[1;33m    7say = 20\u001b[0m\n\u001b[1;37m    ^\u001b[0m\n\u001b[1;31mSyntaxError\u001b[0m\u001b[1;31m:\u001b[0m invalid decimal literal\n"
     ]
    }
   ],
   "source": [
    "7say = 20  # Identifier can't start with a digit"
   ]
  },
  {
   "cell_type": "code",
   "execution_count": 12,
   "id": "40628653-bcfd-4939-aad5-21f8c5333f43",
   "metadata": {},
   "outputs": [
    {
     "ename": "SyntaxError",
     "evalue": "invalid syntax (2947493621.py, line 1)",
     "output_type": "error",
     "traceback": [
      "\u001b[1;36m  Cell \u001b[1;32mIn[12], line 1\u001b[1;36m\u001b[0m\n\u001b[1;33m    say& = 20\u001b[0m\n\u001b[1;37m         ^\u001b[0m\n\u001b[1;31mSyntaxError\u001b[0m\u001b[1;31m:\u001b[0m invalid syntax\n"
     ]
    }
   ],
   "source": [
    "say& = 20 # Identifier can't use special symbols"
   ]
  },
  {
   "cell_type": "code",
   "execution_count": 13,
   "id": "7047dd42-587a-4c23-a6ed-e5d4b9043392",
   "metadata": {},
   "outputs": [
    {
     "ename": "SyntaxError",
     "evalue": "cannot assign to None (1344109567.py, line 1)",
     "output_type": "error",
     "traceback": [
      "\u001b[1;36m  Cell \u001b[1;32mIn[13], line 1\u001b[1;36m\u001b[0m\n\u001b[1;33m    None = 20\u001b[0m\n\u001b[1;37m    ^\u001b[0m\n\u001b[1;31mSyntaxError\u001b[0m\u001b[1;31m:\u001b[0m cannot assign to None\n"
     ]
    }
   ],
   "source": [
    "None = 20  # Keywords can't be used as identifiers"
   ]
  },
  {
   "cell_type": "code",
   "execution_count": 14,
   "id": "085cdef1-0471-4549-93bc-cea33535565d",
   "metadata": {},
   "outputs": [],
   "source": [
    "Say2 = 20 # (Identifiers can be a combination of letters in lowercase (a to z) or uppercase"
   ]
  },
  {
   "cell_type": "code",
   "execution_count": 16,
   "id": "4c9995c2-dd0d-4d82-b74b-412dce9e3cb5",
   "metadata": {},
   "outputs": [],
   "source": [
    "say_2 =20"
   ]
  },
  {
   "cell_type": "markdown",
   "id": "e511be4b-bea7-407f-a975-c71b44ce37e6",
   "metadata": {},
   "source": [
    "# COMMENTS "
   ]
  },
  {
   "cell_type": "code",
   "execution_count": null,
   "id": "525ccfa9-5089-467f-bcba-0c7c00d17224",
   "metadata": {},
   "outputs": [],
   "source": [
    "say1= 20  #Single line comment"
   ]
  },
  {
   "cell_type": "code",
   "execution_count": 17,
   "id": "47b77604-1606-496a-8ea8-4d82a02f888e",
   "metadata": {},
   "outputs": [],
   "source": [
    "#multi\n",
    "#line\n",
    "#comment\n",
    "say1= 20 "
   ]
  },
  {
   "cell_type": "code",
   "execution_count": 18,
   "id": "bc015cd0-79ec-4293-a265-3b764617e6e3",
   "metadata": {},
   "outputs": [],
   "source": [
    "\"\"\"\n",
    "multi\n",
    "line\n",
    "comment\n",
    "\"\"\"\n",
    "hey =10"
   ]
  },
  {
   "cell_type": "code",
   "execution_count": 19,
   "id": "dfa497f7-26cb-4401-b7a1-6e7927c273dd",
   "metadata": {},
   "outputs": [],
   "source": [
    "'''\n",
    "multi\n",
    "line\n",
    "comment\n",
    "'''\n",
    "hey =10"
   ]
  },
  {
   "cell_type": "markdown",
   "id": "aebe07d1-5c1a-4745-b3ef-060617cbc40e",
   "metadata": {},
   "source": [
    "# statements"
   ]
  },
  {
   "cell_type": "code",
   "execution_count": 29,
   "id": "a8a98576-7f40-49b8-a565-262f1ee9695e",
   "metadata": {},
   "outputs": [
    {
     "data": {
      "text/plain": [
       "(10, int, '0x7fff8c29b4c8')"
      ]
     },
     "execution_count": 29,
     "metadata": {},
     "output_type": "execute_result"
    }
   ],
   "source": [
    "a = 10\n",
    "b = 10\n",
    "c = b\n",
    "a,type(a),hex(id(a))"
   ]
  },
  {
   "cell_type": "code",
   "execution_count": 30,
   "id": "7bfd3380-d3a7-4506-81bf-9113bb398fa7",
   "metadata": {},
   "outputs": [
    {
     "data": {
      "text/plain": [
       "(10, int, '0x7fff8c29b4c8')"
      ]
     },
     "execution_count": 30,
     "metadata": {},
     "output_type": "execute_result"
    }
   ],
   "source": [
    "b,type (b),hex(id(c))"
   ]
  },
  {
   "cell_type": "code",
   "execution_count": 31,
   "id": "1be68031-4cf9-4c8e-a2b9-12be2ee59250",
   "metadata": {},
   "outputs": [
    {
     "data": {
      "text/plain": [
       "(10, int, '0x7fff8c29b4c8')"
      ]
     },
     "execution_count": 31,
     "metadata": {},
     "output_type": "execute_result"
    }
   ],
   "source": [
    "c,type (c),hex(id(c))"
   ]
  },
  {
   "cell_type": "code",
   "execution_count": 33,
   "id": "d9bf3b3a-8288-41d6-98d0-7d1e4f08a5dd",
   "metadata": {},
   "outputs": [
    {
     "data": {
      "text/plain": [
       "70"
      ]
     },
     "execution_count": 33,
     "metadata": {},
     "output_type": "execute_result"
    }
   ],
   "source": [
    "a = 10\n",
    "a = a + 60\n",
    "a"
   ]
  },
  {
   "cell_type": "markdown",
   "id": "f7e213f7-13d5-4e58-a81d-d19469477b59",
   "metadata": {},
   "source": [
    "# variable assignment"
   ]
  },
  {
   "cell_type": "code",
   "execution_count": 34,
   "id": "52d6bd95-34e3-413b-8d3d-d73d76a49711",
   "metadata": {},
   "outputs": [
    {
     "name": "stdout",
     "output_type": "stream",
     "text": [
      "29\n",
      "29.67\n",
      " hello there \n"
     ]
    }
   ],
   "source": [
    "intvar = 29\n",
    "floatvar = 29.67\n",
    "strvar = \" hello there \"\n",
    "print (intvar)\n",
    "print (floatvar)\n",
    "print (strvar)"
   ]
  },
  {
   "cell_type": "markdown",
   "id": "0e56732f-a0b6-4492-8d3f-b8764964681e",
   "metadata": {},
   "source": [
    " # multiple assignments"
   ]
  },
  {
   "cell_type": "code",
   "execution_count": 35,
   "id": "1b6962e8-7167-40a6-b938-b846375ed781",
   "metadata": {},
   "outputs": [
    {
     "name": "stdout",
     "output_type": "stream",
     "text": [
      "29\n",
      "29.67\n",
      "hello there \n"
     ]
    }
   ],
   "source": [
    " intvar , floatvar , strvar = 29,29.67,\"hello there \"\n",
    "print (intvar)\n",
    "print (floatvar)\n",
    "print (strvar)"
   ]
  },
  {
   "cell_type": "code",
   "execution_count": 37,
   "id": "6ff15574-4ec0-42f8-b485-c5764f118d6e",
   "metadata": {},
   "outputs": [
    {
     "name": "stdout",
     "output_type": "stream",
     "text": [
      "29\n",
      "29.67\n",
      "hello there \n"
     ]
    },
    {
     "data": {
      "text/plain": [
       "(None, None, None)"
      ]
     },
     "execution_count": 37,
     "metadata": {},
     "output_type": "execute_result"
    }
   ],
   "source": [
    "print (intvar),print (floatvar),print (strvar)"
   ]
  },
  {
   "cell_type": "code",
   "execution_count": 38,
   "id": "cac6e91a-94e3-416c-9509-25e81b4164cd",
   "metadata": {},
   "outputs": [
    {
     "name": "stdout",
     "output_type": "stream",
     "text": [
      "23 23 23\n"
     ]
    }
   ],
   "source": [
    "a1 = a2 =a3 = 23\n",
    "print (a1,a2,a3)"
   ]
  },
  {
   "cell_type": "markdown",
   "id": "35a940cb-225f-4574-ac17-160edcb35151",
   "metadata": {},
   "source": [
    "# Data Types "
   ]
  },
  {
   "cell_type": "markdown",
   "id": "555c8255-ef35-455d-a287-f986dc3c9649",
   "metadata": {},
   "source": [
    "# Numeric "
   ]
  },
  {
   "cell_type": "code",
   "execution_count": 39,
   "id": "ec2bfe81-8034-4b08-9915-1a3d772ca23d",
   "metadata": {},
   "outputs": [
    {
     "name": "stdout",
     "output_type": "stream",
     "text": [
      "20\n",
      "<class 'int'>\n",
      "28\n",
      "20  is Integer? True\n"
     ]
    }
   ],
   "source": [
    "say1 = 20 # Integer data type\n",
    "print (say1)\n",
    "print (type (say1)) # type of object \n",
    "print(sys.getsizeof(say1)) # size of integer object in bytes \n",
    "print(say1, \" is Integer?\", isinstance(say1, int))"
   ]
  },
  {
   "cell_type": "code",
   "execution_count": 40,
   "id": "5892d096-6bf3-4884-b1b3-816ea701f72c",
   "metadata": {},
   "outputs": [
    {
     "name": "stdout",
     "output_type": "stream",
     "text": [
      "20.23\n",
      "<class 'float'>\n",
      "24\n",
      "20.23  is Integer? True\n"
     ]
    }
   ],
   "source": [
    "say2 = 20.23 # Float data type\n",
    "print (say2)\n",
    "print (type (say2)) # type of object\n",
    "print(sys.getsizeof(say2)) # size of float object in bytes \n",
    "print(say2, \" is float?\", isinstance(say2, float))"
   ]
  },
  {
   "cell_type": "code",
   "execution_count": 41,
   "id": "75776185-76b7-4970-8ec1-afa8aaf3c012",
   "metadata": {},
   "outputs": [
    {
     "data": {
      "text/plain": [
       "28"
      ]
     },
     "execution_count": 41,
     "metadata": {},
     "output_type": "execute_result"
    }
   ],
   "source": [
    "sys.getsizeof(int()) ) # size of integer object in bytes "
   ]
  },
  {
   "cell_type": "code",
   "execution_count": 42,
   "id": "60b5ac39-66a0-4877-ac76-7c3f16ed0e50",
   "metadata": {},
   "outputs": [
    {
     "data": {
      "text/plain": [
       "24"
      ]
     },
     "execution_count": 42,
     "metadata": {},
     "output_type": "execute_result"
    }
   ],
   "source": [
    "sys.getsizeof(float())# size of float object in bytes "
   ]
  },
  {
   "cell_type": "code",
   "execution_count": 43,
   "id": "3c2baded-7eb1-4b86-9d58-4c03c53fd3ef",
   "metadata": {},
   "outputs": [
    {
     "name": "stdout",
     "output_type": "stream",
     "text": [
      "(20.23+4.4j)\n",
      "<class 'complex'>\n",
      "32\n",
      "(20.23+4.4j)  is complex? True\n"
     ]
    }
   ],
   "source": [
    "say3 = 20.23+ 4.4j # Complex data type \n",
    "print (say3)\n",
    "print (type (say3)) # type of object \n",
    "print(sys.getsizeof(say3))\n",
    "print(say3, \" is complex?\", isinstance(say3, complex))"
   ]
  },
  {
   "cell_type": "code",
   "execution_count": 44,
   "id": "afc2296b-f69d-4b7a-b3dd-8046956e6c8c",
   "metadata": {},
   "outputs": [
    {
     "data": {
      "text/plain": [
       "32"
      ]
     },
     "execution_count": 44,
     "metadata": {},
     "output_type": "execute_result"
    }
   ],
   "source": [
    "sys.getsizeof(complex()) # size of complex object in bytes"
   ]
  },
  {
   "cell_type": "markdown",
   "id": "dab1dfd9-5f65-4573-a4d9-8e23631dd981",
   "metadata": {},
   "source": [
    "# Boolean"
   ]
  },
  {
   "cell_type": "code",
   "execution_count": 46,
   "id": "06eb67ca-8770-480e-99b3-d64d1f7a4fcb",
   "metadata": {},
   "outputs": [],
   "source": [
    "bool1 = True"
   ]
  },
  {
   "cell_type": "code",
   "execution_count": 47,
   "id": "f96cea05-ddd9-4bc7-a87c-f7cb48ed3624",
   "metadata": {},
   "outputs": [],
   "source": [
    "bool2 = False"
   ]
  },
  {
   "cell_type": "code",
   "execution_count": 48,
   "id": "7e688ea1-f4ed-4fef-b4a3-88e6b2fd22b8",
   "metadata": {},
   "outputs": [
    {
     "name": "stdout",
     "output_type": "stream",
     "text": [
      "<class 'bool'>\n"
     ]
    }
   ],
   "source": [
    "print(type(bool1)) "
   ]
  },
  {
   "cell_type": "code",
   "execution_count": 49,
   "id": "fc1e11f4-912d-4ff9-9956-c928b608d96c",
   "metadata": {},
   "outputs": [
    {
     "name": "stdout",
     "output_type": "stream",
     "text": [
      "<class 'bool'>\n"
     ]
    }
   ],
   "source": [
    "print(type(bool2)) "
   ]
  },
  {
   "cell_type": "code",
   "execution_count": 50,
   "id": "ed926485-41c9-4425-89c3-4e54b167b47e",
   "metadata": {},
   "outputs": [
    {
     "data": {
      "text/plain": [
       "True"
      ]
     },
     "execution_count": 50,
     "metadata": {},
     "output_type": "execute_result"
    }
   ],
   "source": [
    "isinstance(bool1, bool) "
   ]
  },
  {
   "cell_type": "code",
   "execution_count": 51,
   "id": "25e861da-b1bf-460d-a853-190b4c8d9689",
   "metadata": {},
   "outputs": [
    {
     "data": {
      "text/plain": [
       "False"
      ]
     },
     "execution_count": 51,
     "metadata": {},
     "output_type": "execute_result"
    }
   ],
   "source": [
    "bool(0)"
   ]
  },
  {
   "cell_type": "code",
   "execution_count": 52,
   "id": "1f8e3a4f-4326-4cfe-9e36-df09a7c5d038",
   "metadata": {},
   "outputs": [
    {
     "data": {
      "text/plain": [
       "True"
      ]
     },
     "execution_count": 52,
     "metadata": {},
     "output_type": "execute_result"
    }
   ],
   "source": [
    "bool(1) "
   ]
  },
  {
   "cell_type": "code",
   "execution_count": 53,
   "id": "81d1c6c2-fd6b-4b77-a640-079f794cb455",
   "metadata": {},
   "outputs": [
    {
     "data": {
      "text/plain": [
       "False"
      ]
     },
     "execution_count": 53,
     "metadata": {},
     "output_type": "execute_result"
    }
   ],
   "source": [
    "bool(None) "
   ]
  },
  {
   "cell_type": "code",
   "execution_count": 54,
   "id": "7f176b15-f53a-4477-ac4a-9878cbaaaa65",
   "metadata": {},
   "outputs": [
    {
     "data": {
      "text/plain": [
       "False"
      ]
     },
     "execution_count": 54,
     "metadata": {},
     "output_type": "execute_result"
    }
   ],
   "source": [
    "bool (False) "
   ]
  },
  {
   "cell_type": "markdown",
   "id": "9005db46-3969-4d80-bafe-72438bbfef2d",
   "metadata": {},
   "source": [
    "# string creation"
   ]
  },
  {
   "cell_type": "code",
   "execution_count": 55,
   "id": "6f6d2e77-f2ef-4fcc-b68d-d1a9e0660e96",
   "metadata": {},
   "outputs": [
    {
     "name": "stdout",
     "output_type": "stream",
     "text": [
      "SAYALI \n"
     ]
    }
   ],
   "source": [
    "str = \"SAYALI \"\n",
    "print ( str )"
   ]
  },
  {
   "cell_type": "code",
   "execution_count": 57,
   "id": "267460ef-8a78-4c7b-befc-3f991dccf744",
   "metadata": {},
   "outputs": [
    {
     "name": "stdout",
     "output_type": "stream",
     "text": [
      "sayali\n"
     ]
    }
   ],
   "source": [
    "str1 = 'sayali'\n",
    "print ( str1 ) # Define string using single quotes"
   ]
  },
  {
   "cell_type": "code",
   "execution_count": 58,
   "id": "637c4d32-d9bb-4071-b8b1-364815a29612",
   "metadata": {},
   "outputs": [
    {
     "name": "stdout",
     "output_type": "stream",
     "text": [
      "sayali nade\n"
     ]
    }
   ],
   "source": [
    "str1 = \"sayali nade\"\n",
    "print ( str1 ) # Define string using double quotes"
   ]
  },
  {
   "cell_type": "code",
   "execution_count": 59,
   "id": "a5f0e096-35b6-46fb-abc4-0fcf04244480",
   "metadata": {},
   "outputs": [
    {
     "name": "stdout",
     "output_type": "stream",
     "text": [
      "sayali\n",
      "          nade\n"
     ]
    }
   ],
   "source": [
    "str1 ='''sayali\n",
    "          nade'''\n",
    "print ( str1 )# Define string using triple quotes"
   ]
  },
  {
   "cell_type": "code",
   "execution_count": 60,
   "id": "221ea5ff-5b45-4852-8004-dba555a04019",
   "metadata": {},
   "outputs": [
    {
     "name": "stdout",
     "output_type": "stream",
     "text": [
      "sayali\n",
      "          nade\n"
     ]
    }
   ],
   "source": [
    "str1 =\"\"\"sayali\n",
    "          nade\"\"\"\n",
    "print ( str1 )# Define string using triple quotes"
   ]
  },
  {
   "cell_type": "code",
   "execution_count": 62,
   "id": "296c9ec8-dbae-4e80-9318-2b9a56b52f7e",
   "metadata": {},
   "outputs": [
    {
     "name": "stdout",
     "output_type": "stream",
     "text": [
      "sayali ulhas nade\n"
     ]
    }
   ],
   "source": [
    "str1 =('sayali '\n",
    "       'ulhas '\n",
    "        'nade')\n",
    "print ( str1 )"
   ]
  },
  {
   "cell_type": "code",
   "execution_count": 64,
   "id": "f9fa609f-8c5c-46af-b60e-03488881def0",
   "metadata": {},
   "outputs": [
    {
     "data": {
      "text/plain": [
       "'wow wow wow wow wow wow wow '"
      ]
     },
     "execution_count": 64,
     "metadata": {},
     "output_type": "execute_result"
    }
   ],
   "source": [
    "str2 = 'wow '\n",
    "str2 = str2*7\n",
    "str2"
   ]
  },
  {
   "cell_type": "code",
   "execution_count": 65,
   "id": "194a4cf4-2bcf-4c0e-aa66-e3ee32181d7b",
   "metadata": {},
   "outputs": [
    {
     "data": {
      "text/plain": [
       "28"
      ]
     },
     "execution_count": 65,
     "metadata": {},
     "output_type": "execute_result"
    }
   ],
   "source": [
    "len(str2)"
   ]
  },
  {
   "cell_type": "markdown",
   "id": "d313c8e3-1759-44fe-ae75-ff96267a3a0f",
   "metadata": {},
   "source": [
    "# string indexing"
   ]
  },
  {
   "cell_type": "code",
   "execution_count": 66,
   "id": "ce907728-8464-42f1-8e4c-7ff47866321e",
   "metadata": {},
   "outputs": [
    {
     "data": {
      "text/plain": [
       "'sayali ulhas nade'"
      ]
     },
     "execution_count": 66,
     "metadata": {},
     "output_type": "execute_result"
    }
   ],
   "source": [
    "str1 "
   ]
  },
  {
   "cell_type": "code",
   "execution_count": 67,
   "id": "8d103b29-af86-4036-90f0-5db318b7022c",
   "metadata": {},
   "outputs": [
    {
     "data": {
      "text/plain": [
       "'s'"
      ]
     },
     "execution_count": 67,
     "metadata": {},
     "output_type": "execute_result"
    }
   ],
   "source": [
    "str1[0] # First character in string \"str1\""
   ]
  },
  {
   "cell_type": "code",
   "execution_count": 68,
   "id": "c7049eb2-eac0-4d64-9ca3-bc06d342dc16",
   "metadata": {},
   "outputs": [
    {
     "data": {
      "text/plain": [
       "'e'"
      ]
     },
     "execution_count": 68,
     "metadata": {},
     "output_type": "execute_result"
    }
   ],
   "source": [
    "str1[len(str1)-1] # Last character in string using len function "
   ]
  },
  {
   "cell_type": "code",
   "execution_count": 71,
   "id": "d5c67a4f-ed36-4a52-8ce8-c3c2028851fd",
   "metadata": {},
   "outputs": [
    {
     "data": {
      "text/plain": [
       "'e'"
      ]
     },
     "execution_count": 71,
     "metadata": {},
     "output_type": "execute_result"
    }
   ],
   "source": [
    " str1[-1] # Last character in string"
   ]
  },
  {
   "cell_type": "code",
   "execution_count": 72,
   "id": "3d4aec42-aa12-4a05-b746-9531885dda5f",
   "metadata": {},
   "outputs": [
    {
     "data": {
      "text/plain": [
       "' '"
      ]
     },
     "execution_count": 72,
     "metadata": {},
     "output_type": "execute_result"
    }
   ],
   "source": [
    " str1[6]#Fetch 7th element of the string"
   ]
  },
  {
   "cell_type": "code",
   "execution_count": 73,
   "id": "c9e3963d-b0df-4af0-86e9-29d9b972e926",
   "metadata": {},
   "outputs": [
    {
     "data": {
      "text/plain": [
       "'i'"
      ]
     },
     "execution_count": 73,
     "metadata": {},
     "output_type": "execute_result"
    }
   ],
   "source": [
    " str1[5]"
   ]
  },
  {
   "cell_type": "markdown",
   "id": "d7e040eb-f5db-4a5a-a9b7-ed35695947e6",
   "metadata": {},
   "source": [
    "# string slicing"
   ]
  },
  {
   "cell_type": "code",
   "execution_count": 74,
   "id": "efb7c1bb-9783-48a1-94e6-c35f905f2821",
   "metadata": {},
   "outputs": [
    {
     "data": {
      "text/plain": [
       "'sayal'"
      ]
     },
     "execution_count": 74,
     "metadata": {},
     "output_type": "execute_result"
    }
   ],
   "source": [
    "str1[0:5]  # String slicing - Fetch all characters from 0 to 5 index location "
   ]
  },
  {
   "cell_type": "code",
   "execution_count": 75,
   "id": "e6ba2157-eae6-411b-a4dd-e75c8869664a",
   "metadata": {},
   "outputs": [
    {
     "data": {
      "text/plain": [
       "' ulhas'"
      ]
     },
     "execution_count": 75,
     "metadata": {},
     "output_type": "execute_result"
    }
   ],
   "source": [
    "str1[6:12] "
   ]
  },
  {
   "cell_type": "code",
   "execution_count": 76,
   "id": "6a3ecd04-800e-4bbf-a365-f9a9cac972ed",
   "metadata": {},
   "outputs": [
    {
     "data": {
      "text/plain": [
       "'nade'"
      ]
     },
     "execution_count": 76,
     "metadata": {},
     "output_type": "execute_result"
    }
   ],
   "source": [
    "str1[-4:] # Retreive last four characters of the string "
   ]
  },
  {
   "cell_type": "code",
   "execution_count": 77,
   "id": "5e0b3c50-2b0e-4b54-b0b9-8380001d8985",
   "metadata": {},
   "outputs": [
    {
     "data": {
      "text/plain": [
       "'s nade'"
      ]
     },
     "execution_count": 77,
     "metadata": {},
     "output_type": "execute_result"
    }
   ],
   "source": [
    "str1[-6:] # Retreive last six characters of the string "
   ]
  },
  {
   "cell_type": "markdown",
   "id": "1c81bdb4-ab51-4709-92c7-2a41c5d16f99",
   "metadata": {},
   "source": [
    "# update & delete string"
   ]
  },
  {
   "cell_type": "code",
   "execution_count": 83,
   "id": "21729abc-f857-4912-b866-5e0e794dd4ef",
   "metadata": {},
   "outputs": [
    {
     "data": {
      "text/plain": [
       "'sayali ulhas nade'"
      ]
     },
     "execution_count": 83,
     "metadata": {},
     "output_type": "execute_result"
    }
   ],
   "source": [
    "str1 "
   ]
  },
  {
   "cell_type": "code",
   "execution_count": 84,
   "id": "773b4433-3c3f-4c9d-a414-58fc7c42176a",
   "metadata": {},
   "outputs": [
    {
     "data": {
      "text/plain": [
       "'sayal'"
      ]
     },
     "execution_count": 84,
     "metadata": {},
     "output_type": "execute_result"
    }
   ],
   "source": [
    "str1[0:5]"
   ]
  },
  {
   "cell_type": "code",
   "execution_count": 90,
   "id": "f3602815-c1ee-4699-b1db-66797df4cfaf",
   "metadata": {},
   "outputs": [
    {
     "data": {
      "text/plain": [
       "'hey as nade'"
      ]
     },
     "execution_count": 90,
     "metadata": {},
     "output_type": "execute_result"
    }
   ],
   "source": [
    "str1 = \"hey \" + str1[7:]\n",
    "str1"
   ]
  },
  {
   "cell_type": "code",
   "execution_count": 92,
   "id": "e30d5076-6426-4aaa-bdb3-bebfdb51d13a",
   "metadata": {},
   "outputs": [
    {
     "ename": "NameError",
     "evalue": "name 'str1' is not defined",
     "output_type": "error",
     "traceback": [
      "\u001b[1;31m---------------------------------------------------------------------------\u001b[0m",
      "\u001b[1;31mNameError\u001b[0m                                 Traceback (most recent call last)",
      "Cell \u001b[1;32mIn[92], line 1\u001b[0m\n\u001b[1;32m----> 1\u001b[0m str1[\u001b[38;5;241m0\u001b[39m:\u001b[38;5;241m6\u001b[39m]\n",
      "\u001b[1;31mNameError\u001b[0m: name 'str1' is not defined"
     ]
    }
   ],
   "source": [
    "str1[0:6]  \n",
    "#Strings are immutable which means elements of a string cannot be changed once \n",
    "#they have been assigned"
   ]
  },
  {
   "cell_type": "code",
   "execution_count": 91,
   "id": "4e6ed922-f2e4-40d9-ac6a-554218f9dde2",
   "metadata": {},
   "outputs": [
    {
     "ename": "NameError",
     "evalue": "name 'str1' is not defined",
     "output_type": "error",
     "traceback": [
      "\u001b[1;31m---------------------------------------------------------------------------\u001b[0m",
      "\u001b[1;31mNameError\u001b[0m                                 Traceback (most recent call last)",
      "Cell \u001b[1;32mIn[91], line 2\u001b[0m\n\u001b[0;32m      1\u001b[0m \u001b[38;5;28;01mdel\u001b[39;00m str1 \n\u001b[1;32m----> 2\u001b[0m \u001b[38;5;28mprint\u001b[39m (str1)\n",
      "\u001b[1;31mNameError\u001b[0m: name 'str1' is not defined"
     ]
    }
   ],
   "source": [
    "del str1 \n",
    "print (str1)  # Delete a string"
   ]
  },
  {
   "cell_type": "markdown",
   "id": "7a8760ea-96f2-4a9d-9858-008d956a5bb5",
   "metadata": {},
   "source": [
    "# string concatenation"
   ]
  },
  {
   "cell_type": "code",
   "execution_count": 94,
   "id": "3a21388d-03de-4486-849c-eb775898b64d",
   "metadata": {},
   "outputs": [
    {
     "name": "stdout",
     "output_type": "stream",
     "text": [
      "ourlife\n"
     ]
    }
   ],
   "source": [
    "a2 = 'our'\n",
    "a1 = 'life'\n",
    "a3 = a2 + a1\n",
    "print(a3) # String concatenation "
   ]
  },
  {
   "cell_type": "code",
   "execution_count": null,
   "id": "41e9fd72-baf6-4c1d-99a7-afcd6bd9c853",
   "metadata": {},
   "outputs": [],
   "source": []
  }
 ],
 "metadata": {
  "kernelspec": {
   "display_name": "Python [conda env:base] *",
   "language": "python",
   "name": "conda-base-py"
  },
  "language_info": {
   "codemirror_mode": {
    "name": "ipython",
    "version": 3
   },
   "file_extension": ".py",
   "mimetype": "text/x-python",
   "name": "python",
   "nbconvert_exporter": "python",
   "pygments_lexer": "ipython3",
   "version": "3.13.5"
  }
 },
 "nbformat": 4,
 "nbformat_minor": 5
}
