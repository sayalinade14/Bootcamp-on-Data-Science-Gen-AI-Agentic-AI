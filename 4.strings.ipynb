{
 "cells": [
  {
   "cell_type": "markdown",
   "id": "1aafe6c7-4a0e-46cb-99eb-a03a77de573a",
   "metadata": {},
   "source": [
    "# Single line comment"
   ]
  },
  {
   "cell_type": "code",
   "execution_count": 2,
   "id": "b06af41d-46da-4c3e-95db-ad5107870b81",
   "metadata": {},
   "outputs": [
    {
     "name": "stdout",
     "output_type": "stream",
     "text": [
      "S\n"
     ]
    }
   ],
   "source": [
    "letter = 'S' \n",
    "print (letter)"
   ]
  },
  {
   "cell_type": "code",
   "execution_count": 3,
   "id": "4ad13c13-72a9-4030-a3cf-c539c693b58a",
   "metadata": {},
   "outputs": [
    {
     "name": "stdout",
     "output_type": "stream",
     "text": [
      "1\n"
     ]
    }
   ],
   "source": [
    "print (len(letter))"
   ]
  },
  {
   "cell_type": "code",
   "execution_count": 4,
   "id": "0890c317-dca2-4f70-b0c1-2b0d39e5d8bc",
   "metadata": {},
   "outputs": [
    {
     "name": "stdout",
     "output_type": "stream",
     "text": [
      "hey,willy\n",
      "9\n"
     ]
    }
   ],
   "source": [
    "greetings = 'hey,willy'\n",
    "print(greetings)\n",
    "print(len(greetings))"
   ]
  },
  {
   "cell_type": "code",
   "execution_count": 5,
   "id": "116d2ebc-65cc-4706-9db2-3dc7244e21d3",
   "metadata": {},
   "outputs": [
    {
     "name": "stdout",
     "output_type": "stream",
     "text": [
      " data science is powerful\n"
     ]
    }
   ],
   "source": [
    "sentence = \" data science is powerful\"\n",
    "print(sentence)"
   ]
  },
  {
   "cell_type": "markdown",
   "id": "ee8186f8-7143-494b-94bd-71650213ef4f",
   "metadata": {},
   "source": [
    "# multiline string"
   ]
  },
  {
   "cell_type": "code",
   "execution_count": 6,
   "id": "04feaa5f-9a8e-4754-bb21-7439bdee853c",
   "metadata": {},
   "outputs": [
    {
     "data": {
      "text/plain": [
       "' data science is powerful.\\nhence learning this would land you a great job'"
      ]
     },
     "execution_count": 6,
     "metadata": {},
     "output_type": "execute_result"
    }
   ],
   "source": [
    "''' data science is powerful.\n",
    "hence learning this would land you a great job'''"
   ]
  },
  {
   "cell_type": "code",
   "execution_count": 8,
   "id": "0c8e85de-6181-4759-bf7f-e46e01618be3",
   "metadata": {},
   "outputs": [
    {
     "data": {
      "text/plain": [
       "' data science is powerful.\\nhence learning this would land you a great job'"
      ]
     },
     "execution_count": 8,
     "metadata": {},
     "output_type": "execute_result"
    }
   ],
   "source": [
    "\"\"\" data science is powerful.\n",
    "hence learning this would land you a great job\"\"\""
   ]
  },
  {
   "attachments": {},
   "cell_type": "markdown",
   "id": "3f83eae8-5873-4e2a-8e4d-75ba62ab7e4f",
   "metadata": {},
   "source": [
    "# String Concatenation!"
   ]
  },
  {
   "cell_type": "code",
   "execution_count": 9,
   "id": "c02122a0-1250-4d04-a738-94ac69d56902",
   "metadata": {},
   "outputs": [
    {
     "name": "stdout",
     "output_type": "stream",
     "text": [
      "yuvaan patil\n"
     ]
    }
   ],
   "source": [
    "first_name = 'yuvaan'\n",
    "last_name = 'patil'\n",
    "space= ' '\n",
    "full_name = first_name + space + last_name\n",
    "print(full_name)"
   ]
  },
  {
   "cell_type": "code",
   "execution_count": 12,
   "id": "7455dca0-8d82-4459-ba64-0fae2d740452",
   "metadata": {},
   "outputs": [
    {
     "name": "stdout",
     "output_type": "stream",
     "text": [
      "6\n",
      "5\n",
      "12\n"
     ]
    }
   ],
   "source": [
    "print(len(first_name))\n",
    "print(len(last_name))\n",
    "print(len(full_name))\n"
   ]
  },
  {
   "attachments": {},
   "cell_type": "markdown",
   "id": "2bbc900d-577d-4e5f-a113-30b8aeae1ff4",
   "metadata": {},
   "source": [
    "# Unpacking characters !"
   ]
  },
  {
   "cell_type": "code",
   "execution_count": 13,
   "id": "dead544b-b232-4423-8fea-503b2518598a",
   "metadata": {},
   "outputs": [
    {
     "name": "stdout",
     "output_type": "stream",
     "text": [
      "y\n",
      "u\n",
      "v\n",
      "a\n",
      "a\n",
      "n\n"
     ]
    }
   ],
   "source": [
    "name = 'yuvaan'\n",
    "a,b,c,d,e,f = name\n",
    "print (a)\n",
    "print (b)\n",
    "print (c)\n",
    "print (d)\n",
    "print (e)\n",
    "print (f)"
   ]
  },
  {
   "attachments": {},
   "cell_type": "markdown",
   "id": "9956cca2-8f2b-48e6-99ac-e7a6df5603b8",
   "metadata": {},
   "source": [
    "# Accessing characters in strings by index\n"
   ]
  },
  {
   "cell_type": "code",
   "execution_count": 15,
   "id": "bc0f3e16-db98-4b53-90bb-40d7c04fd425",
   "metadata": {},
   "outputs": [
    {
     "name": "stdout",
     "output_type": "stream",
     "text": [
      "y\n"
     ]
    }
   ],
   "source": [
    "name = 'yuvaan'\n",
    "first_letter = name[0]\n",
    "print(first_letter)"
   ]
  },
  {
   "cell_type": "code",
   "execution_count": 16,
   "id": "29cd1bc5-6cc5-48ec-bfd6-57e68767dca6",
   "metadata": {},
   "outputs": [
    {
     "name": "stdout",
     "output_type": "stream",
     "text": [
      "u\n"
     ]
    }
   ],
   "source": [
    "second_letter = name[1]\n",
    "print(second_letter)"
   ]
  },
  {
   "cell_type": "code",
   "execution_count": 17,
   "id": "7f52252b-05b0-4e6e-9717-258517a4328a",
   "metadata": {},
   "outputs": [
    {
     "name": "stdout",
     "output_type": "stream",
     "text": [
      "n\n"
     ]
    }
   ],
   "source": [
    "last_letter = name[-1]\n",
    "print(last_letter)"
   ]
  },
  {
   "cell_type": "code",
   "execution_count": 18,
   "id": "5510f80c-d41b-4416-9824-0de47f7151b1",
   "metadata": {},
   "outputs": [
    {
     "name": "stdout",
     "output_type": "stream",
     "text": [
      "a\n"
     ]
    }
   ],
   "source": [
    "last_letter = name[-2]\n",
    "print(last_letter)"
   ]
  },
  {
   "attachments": {},
   "cell_type": "markdown",
   "id": "f2e02010-3978-43f4-92e2-db23db5b2402",
   "metadata": {},
   "source": [
    "# Slicing\n"
   ]
  },
  {
   "cell_type": "code",
   "execution_count": 19,
   "id": "1e761ef5-2ef8-4310-8783-d41d0789c9ca",
   "metadata": {},
   "outputs": [
    {
     "name": "stdout",
     "output_type": "stream",
     "text": [
      "aan\n"
     ]
    }
   ],
   "source": [
    "name = 'yuvaan'\n",
    "last_three = name[3:6]\n",
    "print(last_three)"
   ]
  },
  {
   "cell_type": "code",
   "execution_count": 20,
   "id": "070d393b-65a2-417e-b6f5-6c23711d4b4f",
   "metadata": {},
   "outputs": [
    {
     "name": "stdout",
     "output_type": "stream",
     "text": [
      "a\n"
     ]
    }
   ],
   "source": [
    "name = 'yuvaan'\n",
    "last_three = name[-3]\n",
    "print(last_three)"
   ]
  },
  {
   "cell_type": "code",
   "execution_count": 21,
   "id": "c2c9d6f0-bce6-4bc9-838e-ee8da4332564",
   "metadata": {},
   "outputs": [
    {
     "name": "stdout",
     "output_type": "stream",
     "text": [
      "yva\n"
     ]
    }
   ],
   "source": [
    "name = 'yuvaan'\n",
    "last_three = name[0:5:2]\n",
    "print(last_three)"
   ]
  },
  {
   "attachments": {},
   "cell_type": "markdown",
   "id": "cf95c25e-e552-4052-97b8-2bda21992870",
   "metadata": {},
   "source": [
    "# Escape sequence\n"
   ]
  },
  {
   "cell_type": "code",
   "execution_count": 23,
   "id": "c08bb583-3e6f-47e6-8893-287386207a5f",
   "metadata": {},
   "outputs": [
    {
     "name": "stdout",
     "output_type": "stream",
     "text": [
      "I am yuvaan patil.\n",
      "who are you ?\n"
     ]
    }
   ],
   "source": [
    "print('I am yuvaan patil.\\nwho are you ?')"
   ]
  },
  {
   "cell_type": "code",
   "execution_count": 24,
   "id": "e08ec620-13d5-468d-bc22-64c049d97ea1",
   "metadata": {},
   "outputs": [
    {
     "name": "stdout",
     "output_type": "stream",
     "text": [
      "Days\tTopics\tExercises\n"
     ]
    }
   ],
   "source": [
    "print('Days\\tTopics\\tExercises')\n"
   ]
  },
  {
   "cell_type": "code",
   "execution_count": 27,
   "id": "206cb09d-27f8-44b7-9316-28c9cccc796e",
   "metadata": {},
   "outputs": [
    {
     "name": "stdout",
     "output_type": "stream",
     "text": [
      "Day 1\t3\t5\n"
     ]
    }
   ],
   "source": [
    "print('Day 1\\t3\\t5')\n"
   ]
  },
  {
   "cell_type": "code",
   "execution_count": 28,
   "id": "98af5f1b-f63b-4663-bbe4-e0ab50f1b695",
   "metadata": {},
   "outputs": [
    {
     "name": "stdout",
     "output_type": "stream",
     "text": [
      "Day 4\t3\t5\n"
     ]
    }
   ],
   "source": [
    "print('Day 4\\t3\\t5')\n"
   ]
  },
  {
   "cell_type": "code",
   "execution_count": 30,
   "id": "cc33f5e8-62ef-47ce-a267-0a590a37a8fe",
   "metadata": {},
   "outputs": [
    {
     "name": "stdout",
     "output_type": "stream",
     "text": [
      "hey \t hello \t hi\n"
     ]
    }
   ],
   "source": [
    "print ('hey \\t hello \\t hi' )"
   ]
  },
  {
   "attachments": {},
   "cell_type": "markdown",
   "id": "d08ec454-b30c-4416-b8b9-61ae9c983e9b",
   "metadata": {},
   "source": [
    "## String Methods!"
   ]
  },
  {
   "cell_type": "code",
   "execution_count": 1,
   "id": "044aa019-33a4-4527-ac23-6f74bfb7116f",
   "metadata": {},
   "outputs": [
    {
     "name": "stdout",
     "output_type": "stream",
     "text": [
      "Yuvaan\n"
     ]
    }
   ],
   "source": [
    "name = 'yuvaan'\n",
    "print(name.capitalize())# capitalize(): Converts the first character the string to Capital Letter\n"
   ]
  },
  {
   "cell_type": "code",
   "execution_count": 6,
   "id": "1b042e5d-997b-4bf2-a60e-9cb466ae7b1e",
   "metadata": {},
   "outputs": [
    {
     "name": "stdout",
     "output_type": "stream",
     "text": [
      "3\n"
     ]
    }
   ],
   "source": [
    "name = 'yuvaan patil'\n",
    "print(name.count('a'))# count(): returns occurrences of substring in string, count(substring, start=.., end=..)\n",
    "\n"
   ]
  },
  {
   "cell_type": "code",
   "execution_count": 7,
   "id": "8329b1fc-b8ad-49ed-898e-16e066bdfbc5",
   "metadata": {},
   "outputs": [
    {
     "name": "stdout",
     "output_type": "stream",
     "text": [
      "True\n"
     ]
    }
   ],
   "source": [
    "name = 'yuvaan patil'\n",
    "print(name.endswith('il'))# endswith(): Checks if a string ends with a specified ending"
   ]
  },
  {
   "cell_type": "code",
   "execution_count": 8,
   "id": "40d069e2-a87c-4e18-8f63-d9c5d7672815",
   "metadata": {},
   "outputs": [
    {
     "name": "stdout",
     "output_type": "stream",
     "text": [
      "False\n"
     ]
    }
   ],
   "source": [
    "name = 'yuvaan patil'\n",
    "print(name.endswith('aan'))"
   ]
  },
  {
   "cell_type": "code",
   "execution_count": 11,
   "id": "40e372dc-1060-46f6-a208-276ca73233e9",
   "metadata": {},
   "outputs": [
    {
     "name": "stdout",
     "output_type": "stream",
     "text": [
      "yuvaan  patil\n"
     ]
    }
   ],
   "source": [
    "name = 'yuvaan\\tpatil'\n",
    "print(name.expandtabs())# expandtabs(): Replaces tab character with spaces, default tab size is 8."
   ]
  },
  {
   "cell_type": "code",
   "execution_count": 14,
   "id": "8278b811-c0ca-4e12-b411-2b28cdacfc61",
   "metadata": {},
   "outputs": [
    {
     "name": "stdout",
     "output_type": "stream",
     "text": [
      "yuvaan                        patil\n"
     ]
    }
   ],
   "source": [
    "name = 'yuvaan\\tpatil'\n",
    "print(name.expandtabs(30))"
   ]
  },
  {
   "cell_type": "code",
   "execution_count": 16,
   "id": "c3e68e7b-eb5c-4ed4-8b51-3100e4478e9b",
   "metadata": {},
   "outputs": [
    {
     "name": "stdout",
     "output_type": "stream",
     "text": [
      "7\n"
     ]
    }
   ],
   "source": [
    "name = 'yuvaan patil'\n",
    "print(name.find('p'))# find(): Returns the index of first occurrence of substring"
   ]
  },
  {
   "cell_type": "code",
   "execution_count": 17,
   "id": "0c9cd82d-674f-4f8c-8e2f-3c877d1ebe56",
   "metadata": {},
   "outputs": [
    {
     "name": "stdout",
     "output_type": "stream",
     "text": [
      "2\n"
     ]
    }
   ],
   "source": [
    "name = 'yuvaan patil'\n",
    "print(name.find('va'))# find(): Returns the index of first occurrence of substring"
   ]
  },
  {
   "cell_type": "code",
   "execution_count": 21,
   "id": "680f2367-a5d3-4a71-954a-06c56cad20bb",
   "metadata": {},
   "outputs": [
    {
     "name": "stdout",
     "output_type": "stream",
     "text": [
      "i am yuvaan patil.i am a student,i live in india.\n"
     ]
    }
   ],
   "source": [
    "first_name = 'yuvaan'\n",
    "last_name = 'patil'\n",
    "job = 'student'\n",
    "country = 'india'\n",
    "sentence = 'i am {} {}.i am a {},i live in {}.'.format(first_name ,last_name,job,country)\n",
    "print (sentence)# format()\tformats string into nicer output    "
   ]
  },
  {
   "cell_type": "code",
   "execution_count": 22,
   "id": "176f89c2-39a6-42db-be1e-d3cdcb8869bc",
   "metadata": {},
   "outputs": [
    {
     "name": "stdout",
     "output_type": "stream",
     "text": [
      "3\n"
     ]
    }
   ],
   "source": [
    "name = 'yuvaan patil'\n",
    "print (name.find('a'))# index(): Returns the index of substring\n"
   ]
  },
  {
   "cell_type": "code",
   "execution_count": 23,
   "id": "a80531ee-7da4-4fcd-ba9b-f76ba9b7f8d1",
   "metadata": {},
   "outputs": [
    {
     "name": "stdout",
     "output_type": "stream",
     "text": [
      "False\n"
     ]
    }
   ],
   "source": [
    "name = 'yuvaan patil'\n",
    "print (name.isalnum())# isalnum(): Checks alphanumeric character"
   ]
  },
  {
   "cell_type": "code",
   "execution_count": 24,
   "id": "dc76ad2b-10f3-479d-a52c-0b5780355951",
   "metadata": {},
   "outputs": [
    {
     "name": "stdout",
     "output_type": "stream",
     "text": [
      "True\n"
     ]
    }
   ],
   "source": [
    "name = 'abcdef'\n",
    "print (name.isalnum())# isalnum(): Checks alphanumeric character"
   ]
  },
  {
   "cell_type": "code",
   "execution_count": 25,
   "id": "80be2b29-62f1-4aa1-ad4b-b5514761df2b",
   "metadata": {},
   "outputs": [
    {
     "name": "stdout",
     "output_type": "stream",
     "text": [
      "True\n"
     ]
    }
   ],
   "source": [
    "name = 'udvgh'\n",
    "print (name.isalnum()) # isalnum(): Checks alphanumeric character"
   ]
  },
  {
   "cell_type": "code",
   "execution_count": 26,
   "id": "5795f73c-c0ac-4309-9e57-ca93b0c0e09f",
   "metadata": {},
   "outputs": [
    {
     "name": "stdout",
     "output_type": "stream",
     "text": [
      "False\n"
     ]
    }
   ],
   "source": [
    "name = 'yuvaan_patil'\n",
    "print (name.isalnum()) # isalnum(): Checks alphanumeric character"
   ]
  },
  {
   "cell_type": "code",
   "execution_count": 28,
   "id": "4631adb9-cf25-46a6-8fe6-d18ada7120e5",
   "metadata": {},
   "outputs": [
    {
     "name": "stdout",
     "output_type": "stream",
     "text": [
      "True\n"
     ]
    }
   ],
   "source": [
    "name = 'yuvaanpatil1234'\n",
    "print (name.isalnum()) # isalnum(): Checks alphanumeric character"
   ]
  },
  {
   "cell_type": "code",
   "execution_count": 29,
   "id": "e601af3d-40da-4cab-a3bd-455f648c8342",
   "metadata": {},
   "outputs": [
    {
     "name": "stdout",
     "output_type": "stream",
     "text": [
      "False\n"
     ]
    }
   ],
   "source": [
    "name = 'yuvaan patil'\n",
    "print (name.isalpha()) # isalpha(): Checks if all characters are alphabets"
   ]
  },
  {
   "cell_type": "code",
   "execution_count": 30,
   "id": "85fb2939-5112-4013-85b9-58e160a72494",
   "metadata": {},
   "outputs": [
    {
     "name": "stdout",
     "output_type": "stream",
     "text": [
      "True\n"
     ]
    }
   ],
   "source": [
    "name = 'yuvaanpatil'\n",
    "print (name.isalpha()) # isalpha(): Checks if all characters are alphabets"
   ]
  },
  {
   "cell_type": "code",
   "execution_count": 31,
   "id": "a438a640-b965-4655-b90e-23f2d91ba79b",
   "metadata": {},
   "outputs": [
    {
     "name": "stdout",
     "output_type": "stream",
     "text": [
      "False\n"
     ]
    }
   ],
   "source": [
    "name = 'yuvaanpatil1234'\n",
    "print (name.isalpha()) # isalpha(): Checks if all characters are alphabets"
   ]
  },
  {
   "cell_type": "code",
   "execution_count": 32,
   "id": "2405a9ac-5e83-4202-9072-9e4e7ed10c0c",
   "metadata": {},
   "outputs": [
    {
     "name": "stdout",
     "output_type": "stream",
     "text": [
      "False\n"
     ]
    }
   ],
   "source": [
    "name = 'yuvaanpatil'\n",
    "print (name.isdigit()) # isdigit(): Checks Digit Characters\n"
   ]
  },
  {
   "cell_type": "code",
   "execution_count": 33,
   "id": "f79ee4b5-6ed4-4277-ab16-dba3a6b9f797",
   "metadata": {},
   "outputs": [
    {
     "name": "stdout",
     "output_type": "stream",
     "text": [
      "False\n"
     ]
    }
   ],
   "source": [
    "name = 'yuvaanpatil1234'\n",
    "print (name.isdigit()) # isdigit(): Checks Digit Characters\n"
   ]
  },
  {
   "cell_type": "code",
   "execution_count": 34,
   "id": "eb5ea9bc-4674-4848-9226-f6c2e0a6a3ae",
   "metadata": {},
   "outputs": [
    {
     "name": "stdout",
     "output_type": "stream",
     "text": [
      "True\n"
     ]
    }
   ],
   "source": [
    "name = '1234'\n",
    "print (name.isdigit()) # isdigit(): Checks Digit Characters\n"
   ]
  },
  {
   "cell_type": "code",
   "execution_count": 37,
   "id": "71f00204-c9b3-4e8f-9aff-e1558fab4681",
   "metadata": {},
   "outputs": [
    {
     "name": "stdout",
     "output_type": "stream",
     "text": [
      "True\n"
     ]
    }
   ],
   "source": [
    "num = '1234'\n",
    "print (num.isdecimal()) # isdecimal():Checks decimal characters"
   ]
  },
  {
   "cell_type": "code",
   "execution_count": 38,
   "id": "a2182ae8-7752-4b14-9d3b-a69d840e8a4e",
   "metadata": {},
   "outputs": [
    {
     "name": "stdout",
     "output_type": "stream",
     "text": [
      "False\n"
     ]
    }
   ],
   "source": [
    "num = '1234.66'\n",
    "print (num.isdecimal()) # isdecimal():Checks decimal characters"
   ]
  },
  {
   "cell_type": "code",
   "execution_count": 39,
   "id": "0f080a41-7945-4d63-b1b8-13a362645e5c",
   "metadata": {},
   "outputs": [
    {
     "name": "stdout",
     "output_type": "stream",
     "text": [
      "False\n"
     ]
    }
   ],
   "source": [
    "name = '20yuvaan patil'\n",
    "print(name.isidentifier()) # isidentifier():Checks for valid identifier means it check if a string is a valid variable name"
   ]
  },
  {
   "cell_type": "code",
   "execution_count": 40,
   "id": "3ae331d9-a17d-4888-a888-81ac8ccf03a1",
   "metadata": {},
   "outputs": [
    {
     "name": "stdout",
     "output_type": "stream",
     "text": [
      "False\n"
     ]
    }
   ],
   "source": [
    "name = 'yuvaan patil'\n",
    "print(name.isidentifier()) # isidentifier():Checks for valid identifier means it check if a string is a valid variable name"
   ]
  },
  {
   "cell_type": "code",
   "execution_count": 41,
   "id": "5374faf6-b000-416e-b02d-2dd32137d249",
   "metadata": {},
   "outputs": [
    {
     "name": "stdout",
     "output_type": "stream",
     "text": [
      "True\n"
     ]
    }
   ],
   "source": [
    "name = 'yuvaan_patil'\n",
    "print(name.isidentifier()) # isidentifier():Checks for valid identifier means it check if a string is a valid variable name"
   ]
  },
  {
   "cell_type": "code",
   "execution_count": 42,
   "id": "9f91373f-b49e-4f47-ab0e-1c40316d349a",
   "metadata": {},
   "outputs": [
    {
     "name": "stdout",
     "output_type": "stream",
     "text": [
      "False\n"
     ]
    }
   ],
   "source": [
    "name = 'Yuvaan patil'\n",
    "print(name.islower()) # islower():Checks if all alphabets in a string are lowercase"
   ]
  },
  {
   "cell_type": "code",
   "execution_count": 43,
   "id": "4becbe06-fc51-48db-90da-4a1f3c516706",
   "metadata": {},
   "outputs": [
    {
     "name": "stdout",
     "output_type": "stream",
     "text": [
      "True\n"
     ]
    }
   ],
   "source": [
    "name = 'yuvaan patil'\n",
    "print(name.islower()) # islower():Checks if all alphabets in a string are lowercase"
   ]
  },
  {
   "cell_type": "code",
   "execution_count": 44,
   "id": "c912ecb7-7ed5-4f2c-8121-8479bde1bd04",
   "metadata": {},
   "outputs": [
    {
     "name": "stdout",
     "output_type": "stream",
     "text": [
      "False\n"
     ]
    }
   ],
   "source": [
    "name = 'Yuvaan patil'\n",
    "print(name.isupper()) # isupper(): returns if all characters are uppercase characters"
   ]
  },
  {
   "cell_type": "code",
   "execution_count": 45,
   "id": "a21c95a4-05c0-4168-aa2b-6f59a2a268ce",
   "metadata": {},
   "outputs": [
    {
     "name": "stdout",
     "output_type": "stream",
     "text": [
      "True\n"
     ]
    }
   ],
   "source": [
    "name = 'YUVAAN PATIL'\n",
    "print(name.isupper()) # isupper(): returns if all characters are uppercase characters"
   ]
  },
  {
   "cell_type": "code",
   "execution_count": 48,
   "id": "62096bfe-6bc1-4cd1-bdf5-6577738a0277",
   "metadata": {},
   "outputs": [
    {
     "name": "stdout",
     "output_type": "stream",
     "text": [
      "True\n"
     ]
    }
   ],
   "source": [
    "num='22'\n",
    "print (num.isnumeric()) # isnumeric():Checks numeric characters"
   ]
  },
  {
   "cell_type": "code",
   "execution_count": 49,
   "id": "0e1a24e0-c2ed-4c39-9a19-ffd09379d9f6",
   "metadata": {},
   "outputs": [
    {
     "name": "stdout",
     "output_type": "stream",
     "text": [
      "False\n"
     ]
    }
   ],
   "source": [
    "num='22abcd'\n",
    "print (num.isnumeric()) # isnumeric():Checks numeric characters"
   ]
  },
  {
   "cell_type": "code",
   "execution_count": 50,
   "id": "dc4a675c-7678-46d8-8cde-f50d176018a1",
   "metadata": {},
   "outputs": [
    {
     "name": "stdout",
     "output_type": "stream",
     "text": [
      "data%,science%, is%, powerful\n"
     ]
    }
   ],
   "source": [
    "sentence = [ 'data','science',' is',' powerful']\n",
    "result = '%,'.join(sentence)\n",
    "print(result) # join(): Returns a concatenated string\n"
   ]
  },
  {
   "cell_type": "code",
   "execution_count": 51,
   "id": "51658565-b25b-46b2-b66f-13dcb276756d",
   "metadata": {},
   "outputs": [
    {
     "name": "stdout",
     "output_type": "stream",
     "text": [
      " data science is powerful\n"
     ]
    }
   ],
   "source": [
    "sentence = \" data science is powerful\"\n",
    "print(sentence.strip('s')) # strip(): Removes both leading and trailing characters\n"
   ]
  },
  {
   "cell_type": "code",
   "execution_count": 53,
   "id": "44c75e89-0d6a-43c5-9da4-eb9b0a37def8",
   "metadata": {},
   "outputs": [
    {
     "name": "stdout",
     "output_type": "stream",
     "text": [
      " data science is important\n"
     ]
    }
   ],
   "source": [
    "sentence = \" data science is powerful\"\n",
    "print(sentence.replace('powerful','important')) # replace(): Replaces substring inside\n"
   ]
  },
  {
   "cell_type": "code",
   "execution_count": 56,
   "id": "4db2dbf2-d6db-4f18-806b-cd687e7f3658",
   "metadata": {},
   "outputs": [
    {
     "name": "stdout",
     "output_type": "stream",
     "text": [
      "['data', 'science', 'is', 'powerful']\n"
     ]
    }
   ],
   "source": [
    "sentence = \" data science is powerful\"\n",
    "print(sentence.split()) # split():Splits String from Left"
   ]
  },
  {
   "cell_type": "code",
   "execution_count": 57,
   "id": "1e21ac5b-b098-4ca0-af3a-a5a714994943",
   "metadata": {},
   "outputs": [
    {
     "name": "stdout",
     "output_type": "stream",
     "text": [
      " Data Science Is Powerful\n"
     ]
    }
   ],
   "source": [
    "sentence = \" data science is powerful\"\n",
    "print(sentence.title()) #title(): Returns a Title Cased String"
   ]
  },
  {
   "cell_type": "code",
   "execution_count": 58,
   "id": "6c7de2f5-8e34-4886-bf09-84b285c3153e",
   "metadata": {},
   "outputs": [
    {
     "name": "stdout",
     "output_type": "stream",
     "text": [
      " DATA SCIENCE IS POWERFUL\n"
     ]
    }
   ],
   "source": [
    "sentence = \" data science is powerful\"\n",
    "print(sentence.swapcase()) # swapcase(): Checks if String Starts with the Specified String"
   ]
  },
  {
   "cell_type": "code",
   "execution_count": 60,
   "id": "f8c5a61f-a9b6-42b8-b43c-c28c1467a87d",
   "metadata": {},
   "outputs": [
    {
     "name": "stdout",
     "output_type": "stream",
     "text": [
      "False\n"
     ]
    }
   ],
   "source": [
    "sentence = \" data science is powerful\"\n",
    "print(sentence.startswith('data')) # startswith(): Checks if String Starts with the Specified String"
   ]
  },
  {
   "cell_type": "code",
   "execution_count": 61,
   "id": "d6cec685-32b7-4a3f-90d2-de63474c9062",
   "metadata": {},
   "outputs": [
    {
     "name": "stdout",
     "output_type": "stream",
     "text": [
      "True\n"
     ]
    }
   ],
   "source": [
    "sentence = \" data science is powerful\"\n",
    "print(sentence.startswith(' ')) # startswith(): Checks if String Starts with the Specified String"
   ]
  },
  {
   "cell_type": "code",
   "execution_count": null,
   "id": "7a6fbe7f-50a3-4ed0-9996-c64533501269",
   "metadata": {},
   "outputs": [],
   "source": []
  }
 ],
 "metadata": {
  "kernelspec": {
   "display_name": "Python [conda env:base] *",
   "language": "python",
   "name": "conda-base-py"
  },
  "language_info": {
   "codemirror_mode": {
    "name": "ipython",
    "version": 3
   },
   "file_extension": ".py",
   "mimetype": "text/x-python",
   "name": "python",
   "nbconvert_exporter": "python",
   "pygments_lexer": "ipython3",
   "version": "3.13.5"
  }
 },
 "nbformat": 4,
 "nbformat_minor": 5
}
