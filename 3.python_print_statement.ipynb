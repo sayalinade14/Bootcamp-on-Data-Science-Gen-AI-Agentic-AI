{
 "cells": [
  {
   "cell_type": "markdown",
   "id": "f09f0720-494d-4070-aee0-652b0735e809",
   "metadata": {},
   "source": [
    "# python print statements"
   ]
  },
  {
   "cell_type": "code",
   "execution_count": 1,
   "id": "ea699781-d97b-4616-93eb-cf8c14066e8d",
   "metadata": {},
   "outputs": [
    {
     "data": {
      "text/plain": [
       "45"
      ]
     },
     "execution_count": 1,
     "metadata": {},
     "output_type": "execute_result"
    }
   ],
   "source": [
    "a = 20\n",
    "b = 45\n",
    "a\n",
    "b"
   ]
  },
  {
   "cell_type": "code",
   "execution_count": 2,
   "id": "6765d2d8-d852-44da-b9cd-0dd9bf5739bb",
   "metadata": {},
   "outputs": [
    {
     "name": "stdout",
     "output_type": "stream",
     "text": [
      "20\n",
      "45\n"
     ]
    }
   ],
   "source": [
    "a = 20\n",
    "b = 45\n",
    "print (a)\n",
    "print (b)"
   ]
  },
  {
   "cell_type": "code",
   "execution_count": 3,
   "id": "fe04a269-e068-4cf0-bb20-0376ba7a4221",
   "metadata": {},
   "outputs": [
    {
     "name": "stdout",
     "output_type": "stream",
     "text": [
      "45\n",
      "45 65\n",
      "numbers\n",
      "45 65 numbers\n"
     ]
    }
   ],
   "source": [
    "print(45) \n",
    "print(45,65) \n",
    "print('numbers') \n",
    "print(45,65,'numbers')"
   ]
  },
  {
   "cell_type": "code",
   "execution_count": 4,
   "id": "5a5db247-d4f1-47ab-b59d-c1b0ea13ef51",
   "metadata": {},
   "outputs": [
    {
     "name": "stdout",
     "output_type": "stream",
     "text": [
      "27\n"
     ]
    }
   ],
   "source": [
    "num1=12 \n",
    "num2=15 \n",
    "add=num1+num2 \n",
    "print(add) "
   ]
  },
  {
   "cell_type": "markdown",
   "id": "c2f25337-dedf-4a34-91f9-37a24cd763f8",
   "metadata": {},
   "source": [
    "# print result with string"
   ]
  },
  {
   "cell_type": "code",
   "execution_count": 8,
   "id": "5db2c20c-3e6e-49dc-8e10-23de74782cc0",
   "metadata": {},
   "outputs": [
    {
     "name": "stdout",
     "output_type": "stream",
     "text": [
      "the addition of 12 and 15 is= 27\n"
     ]
    }
   ],
   "source": [
    "num1=12 \n",
    "num2=15 \n",
    "add=num1+num2\n",
    "print ('the addition of',num1,'and',num2,'is=',add)"
   ]
  },
  {
   "cell_type": "code",
   "execution_count": 7,
   "id": "b5ba2f55-3d61-4395-986f-879d59b3e9a4",
   "metadata": {},
   "outputs": [
    {
     "name": "stdout",
     "output_type": "stream",
     "text": [
      "hello,my name is yuvaan and i am 6 years old from latur\n"
     ]
    }
   ],
   "source": [
    "name = 'yuvaan'\n",
    "age = 6\n",
    "city = 'latur'\n",
    "print('hello,my name is',name,'and i am',age,'years old from',city )"
   ]
  },
  {
   "cell_type": "markdown",
   "id": "a8573516-aa2c-45ed-93c2-78fd43e6b676",
   "metadata": {},
   "source": [
    "# print format method"
   ]
  },
  {
   "cell_type": "code",
   "execution_count": 11,
   "id": "320e5697-8c46-4262-861a-fd47de22dca9",
   "metadata": {},
   "outputs": [
    {
     "name": "stdout",
     "output_type": "stream",
     "text": [
      "the addition of 12 and 15 is 27\n"
     ]
    }
   ],
   "source": [
    "num1=12 \n",
    "num2=15 \n",
    "add=num1+num2\n",
    "print ('the addition of {} and {} is {}'.format(num1,num2,add))"
   ]
  },
  {
   "cell_type": "code",
   "execution_count": 24,
   "id": "91225922-3e3d-4a23-ab65-72c07f8d7a41",
   "metadata": {},
   "outputs": [
    {
     "name": "stdout",
     "output_type": "stream",
     "text": [
      "15.5 15.5\n",
      "The average of 12, 15, 17, 18,is= 15.5 or 15.5\n"
     ]
    }
   ],
   "source": [
    "num1=12 \n",
    "num2=15 \n",
    "num3=17\n",
    "num4=18\n",
    "avg=(num1+num2+num3+num4)/4\n",
    "avg1=round((num1+num2+num3+num4)/4,3)\n",
    "print(avg,avg1)\n",
    "print('The average of {}, {}, {}, {},is= {} or {}'.format(num1,num2,num3,num4,\n",
    "avg,avg1)) "
   ]
  },
  {
   "cell_type": "code",
   "execution_count": 25,
   "id": "58d50ad9-aff2-4d4e-9f6b-d61f4bd5b706",
   "metadata": {},
   "outputs": [
    {
     "data": {
      "text/plain": [
       "15.5"
      ]
     },
     "execution_count": 25,
     "metadata": {},
     "output_type": "execute_result"
    }
   ],
   "source": [
    "round(avg,2)"
   ]
  },
  {
   "cell_type": "markdown",
   "id": "634519fb-9155-4a35-a868-82ac0a9b725a",
   "metadata": {},
   "source": [
    "# f string"
   ]
  },
  {
   "cell_type": "code",
   "execution_count": 26,
   "id": "70bc0d39-0ae1-4fd5-b472-811834f10cc9",
   "metadata": {},
   "outputs": [
    {
     "name": "stdout",
     "output_type": "stream",
     "text": [
      "The addition of 12 and 15 is= 27\n"
     ]
    }
   ],
   "source": [
    "num1=12 \n",
    "num2=15\n",
    "print(f'The addition of {num1} and {num2} is= {add}')"
   ]
  },
  {
   "cell_type": "code",
   "execution_count": 35,
   "id": "6b796b1e-28bc-4a95-90d4-28f8ffa77493",
   "metadata": {},
   "outputs": [
    {
     "name": "stdout",
     "output_type": "stream",
     "text": [
      "hello my name is yuvaan,and i am 6 years old, from latur.\n"
     ]
    }
   ],
   "source": [
    "name = 'yuvaan'\n",
    "age = 6\n",
    "city = 'latur'\n",
    "print(f'hello my name is {name},and i am {age} years old, from {city}.')"
   ]
  },
  {
   "cell_type": "code",
   "execution_count": 32,
   "id": "395394ad-6f8f-4d23-b97f-2ed6c8e5b371",
   "metadata": {},
   "outputs": [
    {
     "name": "stdout",
     "output_type": "stream",
     "text": [
      "the addition of 12 and 15 is 27\n"
     ]
    }
   ],
   "source": [
    "num1=12 \n",
    "num2=15 \n",
    "add=num1+num2\n",
    "print (f'the addition of {num1} and {num2} is {add}')"
   ]
  },
  {
   "cell_type": "code",
   "execution_count": 34,
   "id": "760b0d17-b65f-4117-bf7c-fd5b515d09a7",
   "metadata": {},
   "outputs": [
    {
     "name": "stdout",
     "output_type": "stream",
     "text": [
      "The addition of 12 and 15 is= 27\n",
      "hello my name is yuvaan,and i am 6 years old, from latur.\n",
      "the addition of 12 and 15 is 27\n"
     ]
    }
   ],
   "source": [
    "num1=12 \n",
    "num2=15 \n",
    "add=num1+num2\n",
    "print(f'The addition of {num1} and {num2} is= {add}')\n",
    "print(f'hello my name is {name},and i am {age} years old, from {city}.')\n",
    "print (f'the addition of {num1} and {num2} is {add}')"
   ]
  },
  {
   "cell_type": "markdown",
   "id": "61fe4d3e-2048-459b-8527-1d99d02df3d2",
   "metadata": {},
   "source": [
    "# End statement"
   ]
  },
  {
   "cell_type": "code",
   "execution_count": 36,
   "id": "8f4659f1-9a37-4106-ba35-ee32ea7aba9c",
   "metadata": {},
   "outputs": [
    {
     "name": "stdout",
     "output_type": "stream",
     "text": [
      "hey\n",
      "how are you\n"
     ]
    }
   ],
   "source": [
    "print('hey')\n",
    "print ('how are you')"
   ]
  },
  {
   "cell_type": "code",
   "execution_count": 37,
   "id": "8e12649d-1c0f-43d0-9b5d-61a671b496e3",
   "metadata": {},
   "outputs": [
    {
     "name": "stdout",
     "output_type": "stream",
     "text": [
      "hey how are you\n"
     ]
    }
   ],
   "source": [
    "print('hey',end=' ')\n",
    "print ('how are you')"
   ]
  },
  {
   "cell_type": "markdown",
   "id": "7d3b1142-c675-4cb0-b561-9e817f40f22d",
   "metadata": {},
   "source": [
    "# Seperator"
   ]
  },
  {
   "cell_type": "code",
   "execution_count": 38,
   "id": "133b1735-9058-4209-a9bc-e4654d3db4ed",
   "metadata": {},
   "outputs": [
    {
     "name": "stdout",
     "output_type": "stream",
     "text": [
      "hey----/i m yuvaan ----/who are you\n"
     ]
    }
   ],
   "source": [
    "print('hey','i m yuvaan ','who are you',sep='----/')"
   ]
  },
  {
   "cell_type": "code",
   "execution_count": 39,
   "id": "65630b3c-959f-40d6-a0b2-6039b8ce3c53",
   "metadata": {},
   "outputs": [
    {
     "name": "stdout",
     "output_type": "stream",
     "text": [
      "hey--->i m yuvaan --->who are you\n"
     ]
    }
   ],
   "source": [
    "print('hey','i m yuvaan ','who are you',sep='--->')"
   ]
  },
  {
   "cell_type": "code",
   "execution_count": 40,
   "id": "447a8d77-168c-4f0d-82fb-58b6da88d414",
   "metadata": {},
   "outputs": [
    {
     "name": "stdout",
     "output_type": "stream",
     "text": [
      "hey$i m yuvaan $who are you\n"
     ]
    }
   ],
   "source": [
    "print('hey','i m yuvaan ','who are you',sep='$')"
   ]
  },
  {
   "cell_type": "code",
   "execution_count": 41,
   "id": "84c41e72-e829-4088-92c1-a9be16c6fdbe",
   "metadata": {},
   "outputs": [
    {
     "name": "stdout",
     "output_type": "stream",
     "text": [
      "6 ,\n"
     ]
    }
   ],
   "source": [
    "print(6,',') "
   ]
  },
  {
   "cell_type": "code",
   "execution_count": 43,
   "id": "507a34c1-8c8f-4ddf-913c-11401b0a7d00",
   "metadata": {},
   "outputs": [
    {
     "name": "stdout",
     "output_type": "stream",
     "text": [
      "6,\n"
     ]
    }
   ],
   "source": [
    "print(6,',',sep='')"
   ]
  },
  {
   "cell_type": "code",
   "execution_count": 46,
   "id": "91465eb8-abf5-4444-a5b7-38d498b53183",
   "metadata": {},
   "outputs": [
    {
     "name": "stdout",
     "output_type": "stream",
     "text": [
      "789.\n"
     ]
    }
   ],
   "source": [
    "print(7,8,end='',sep='') \n",
    "print(9,'.',sep='') "
   ]
  },
  {
   "cell_type": "code",
   "execution_count": null,
   "id": "1e72c000-442b-49e6-996e-4d4a39318518",
   "metadata": {},
   "outputs": [],
   "source": []
  }
 ],
 "metadata": {
  "kernelspec": {
   "display_name": "Python [conda env:base] *",
   "language": "python",
   "name": "conda-base-py"
  },
  "language_info": {
   "codemirror_mode": {
    "name": "ipython",
    "version": 3
   },
   "file_extension": ".py",
   "mimetype": "text/x-python",
   "name": "python",
   "nbconvert_exporter": "python",
   "pygments_lexer": "ipython3",
   "version": "3.13.5"
  }
 },
 "nbformat": 4,
 "nbformat_minor": 5
}
