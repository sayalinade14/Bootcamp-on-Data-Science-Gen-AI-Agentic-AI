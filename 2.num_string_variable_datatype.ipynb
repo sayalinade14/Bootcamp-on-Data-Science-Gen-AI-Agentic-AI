{
 "cells": [
  {
   "cell_type": "code",
   "execution_count": 5,
   "id": "2f2de860-e775-40e6-8767-c9b9e036594d",
   "metadata": {},
   "outputs": [
    {
     "data": {
      "text/plain": [
       "'3.13.5 | packaged by Anaconda, Inc. | (main, Jun 12 2025, 16:37:03) [MSC v.1929 64 bit (AMD64)]'"
      ]
     },
     "execution_count": 5,
     "metadata": {},
     "output_type": "execute_result"
    }
   ],
   "source": [
    "import sys\n",
    "sys.version"
   ]
  },
  {
   "cell_type": "markdown",
   "id": "093f537e-bebd-46b3-b5d0-d78cdcd15d9f",
   "metadata": {},
   "source": [
    "# Numbers\n"
   ]
  },
  {
   "cell_type": "code",
   "execution_count": 26,
   "id": "7dadeabb-20dd-4c91-87bd-d3a52021a7a0",
   "metadata": {},
   "outputs": [
    {
     "data": {
      "text/plain": [
       "11"
      ]
     },
     "execution_count": 26,
     "metadata": {},
     "output_type": "execute_result"
    }
   ],
   "source": [
    "5 + 6 #addition"
   ]
  },
  {
   "cell_type": "code",
   "execution_count": 27,
   "id": "a7aeed49-8bd7-4aeb-bfdd-e03fc971e47c",
   "metadata": {},
   "outputs": [
    {
     "data": {
      "text/plain": [
       "-1422"
      ]
     },
     "execution_count": 27,
     "metadata": {},
     "output_type": "execute_result"
    }
   ],
   "source": [
    "800-2222 #substraction"
   ]
  },
  {
   "cell_type": "code",
   "execution_count": 28,
   "id": "13a1af4d-062c-4033-ae21-9213bb6c2283",
   "metadata": {},
   "outputs": [
    {
     "data": {
      "text/plain": [
       "328106"
      ]
     },
     "execution_count": 28,
     "metadata": {},
     "output_type": "execute_result"
    }
   ],
   "source": [
    "58*5657 #multiplication"
   ]
  },
  {
   "cell_type": "code",
   "execution_count": 6,
   "id": "05bbb8f2-2d69-4a03-bdae-787ff16fb556",
   "metadata": {},
   "outputs": [
    {
     "data": {
      "text/plain": [
       "2.0"
      ]
     },
     "execution_count": 6,
     "metadata": {},
     "output_type": "execute_result"
    }
   ],
   "source": [
    "10/5 #float divison"
   ]
  },
  {
   "cell_type": "code",
   "execution_count": 7,
   "id": "27fa08a2-452a-445d-bfab-b420eaa46567",
   "metadata": {},
   "outputs": [
    {
     "data": {
      "text/plain": [
       "2"
      ]
     },
     "execution_count": 7,
     "metadata": {},
     "output_type": "execute_result"
    }
   ],
   "source": [
    "10//5 #int division"
   ]
  },
  {
   "cell_type": "code",
   "execution_count": 29,
   "id": "ec8c724a-490b-4ebb-b85e-e39ed24e5710",
   "metadata": {},
   "outputs": [
    {
     "name": "stdout",
     "output_type": "stream",
     "text": [
      "300\n"
     ]
    }
   ],
   "source": [
    "length = 10\n",
    "width = 30\n",
    "area = length * width \n",
    "print ( area )"
   ]
  },
  {
   "cell_type": "code",
   "execution_count": 31,
   "id": "1fe77732-70d9-4386-8f59-c0831b03e227",
   "metadata": {},
   "outputs": [
    {
     "data": {
      "text/plain": [
       "16"
      ]
     },
     "execution_count": 31,
     "metadata": {},
     "output_type": "execute_result"
    }
   ],
   "source": [
    "4**2 #square of 4"
   ]
  },
  {
   "cell_type": "code",
   "execution_count": 32,
   "id": "7ec32c27-779f-480d-9680-c995490bf3b1",
   "metadata": {},
   "outputs": [
    {
     "data": {
      "text/plain": [
       "2187"
      ]
     },
     "execution_count": 32,
     "metadata": {},
     "output_type": "execute_result"
    }
   ],
   "source": [
    "3**7 #3 to the power of 7"
   ]
  },
  {
   "cell_type": "code",
   "execution_count": 48,
   "id": "39e74339-a816-406a-91d5-492ee93cb42a",
   "metadata": {},
   "outputs": [
    {
     "data": {
      "text/plain": [
       "1"
      ]
     },
     "execution_count": 48,
     "metadata": {},
     "output_type": "execute_result"
    }
   ],
   "source": [
    "5%2 #modulus"
   ]
  },
  {
   "cell_type": "code",
   "execution_count": 6,
   "id": "e934e70a-b36a-42eb-b3b1-4bc56ab18be7",
   "metadata": {},
   "outputs": [
    {
     "name": "stdout",
     "output_type": "stream",
     "text": [
      "Area of a circle: 1256.0\n",
      "Area of rectangle: 1575\n",
      "647.46 N\n"
     ]
    }
   ],
   "source": [
    "# area of a circle\n",
    "radius = 20                               \n",
    "area_of_circle = 3.14 * radius ** 2         \n",
    "print('Area of a circle:', area_of_circle)\n",
    "\n",
    "# area of a rectangle\n",
    "length = 45\n",
    "width = 35\n",
    "area_of_rectangle = length * width\n",
    "print('Area of rectangle:', area_of_rectangle)\n",
    "\n",
    "#weight of an object\n",
    "mass = 66\n",
    "gravity = 9.81\n",
    "weight = mass * gravity\n",
    "print(weight, 'N')\n"
   ]
  },
  {
   "cell_type": "markdown",
   "id": "f72ab9c0-328a-4817-9f69-2cf1991e1c9b",
   "metadata": {},
   "source": [
    "# String"
   ]
  },
  {
   "cell_type": "raw",
   "id": "c1288f70-2867-4cba-a883-693bcce606aa",
   "metadata": {},
   "source": [
    "single line ' ' | \" \"\n",
    "multi line '''  '''"
   ]
  },
  {
   "cell_type": "code",
   "execution_count": 42,
   "id": "c66ca30f-2c0d-414a-acfb-a2e1333bc6dd",
   "metadata": {},
   "outputs": [
    {
     "name": "stdout",
     "output_type": "stream",
     "text": [
      "data science is powerful\n"
     ]
    }
   ],
   "source": [
    "print ('data science is powerful' )"
   ]
  },
  {
   "cell_type": "code",
   "execution_count": 44,
   "id": "43bcd7ea-5615-4b9f-a7ac-502cbb9351e7",
   "metadata": {},
   "outputs": [
    {
     "name": "stdout",
     "output_type": "stream",
     "text": [
      "24\n"
     ]
    }
   ],
   "source": [
    "print (len('data science is powerful' ))"
   ]
  },
  {
   "cell_type": "code",
   "execution_count": 46,
   "id": "2e8d22a4-6d9c-43d6-ad93-93a1ab4e9bb6",
   "metadata": {},
   "outputs": [
    {
     "name": "stdout",
     "output_type": "stream",
     "text": [
      "data\n"
     ]
    }
   ],
   "source": [
    "print ('data science is powerful'[0:4] )"
   ]
  },
  {
   "cell_type": "code",
   "execution_count": 47,
   "id": "7420c961-d69f-4ea6-bbe9-300da90c19d1",
   "metadata": {},
   "outputs": [
    {
     "name": "stdout",
     "output_type": "stream",
     "text": [
      "DATA SCIENCE IS POWERFUL \n"
     ]
    }
   ],
   "source": [
    "print('data science is powerful '.upper())"
   ]
  },
  {
   "cell_type": "code",
   "execution_count": 34,
   "id": "00838c6f-af5c-4755-9d2a-4095a5abe1ce",
   "metadata": {},
   "outputs": [
    {
     "data": {
      "text/plain": [
       "'data science is powerful'"
      ]
     },
     "execution_count": 34,
     "metadata": {},
     "output_type": "execute_result"
    }
   ],
   "source": [
    "\"data science is powerful\""
   ]
  },
  {
   "cell_type": "code",
   "execution_count": 35,
   "id": "4d4bf181-cf5b-4116-861f-8ee880167821",
   "metadata": {},
   "outputs": [
    {
     "data": {
      "text/plain": [
       "'data science is powerful '"
      ]
     },
     "execution_count": 35,
     "metadata": {},
     "output_type": "execute_result"
    }
   ],
   "source": [
    "'''data science is powerful '''"
   ]
  },
  {
   "cell_type": "code",
   "execution_count": 36,
   "id": "09515ab3-9ac7-41e1-a21d-89f00046a5d1",
   "metadata": {},
   "outputs": [
    {
     "ename": "SyntaxError",
     "evalue": "unterminated string literal (detected at line 1) (1177777875.py, line 1)",
     "output_type": "error",
     "traceback": [
      "\u001b[1;36m  Cell \u001b[1;32mIn[36], line 1\u001b[1;36m\u001b[0m\n\u001b[1;33m    'data science\u001b[0m\n\u001b[1;37m    ^\u001b[0m\n\u001b[1;31mSyntaxError\u001b[0m\u001b[1;31m:\u001b[0m unterminated string literal (detected at line 1)\n"
     ]
    }
   ],
   "source": [
    "'data science \n",
    "is powerful'"
   ]
  },
  {
   "cell_type": "code",
   "execution_count": 37,
   "id": "bbff45d9-3bcc-4087-921f-1b30d9ec3edc",
   "metadata": {},
   "outputs": [
    {
     "data": {
      "text/plain": [
       "'data \\nscience is \\npowerful '"
      ]
     },
     "execution_count": 37,
     "metadata": {},
     "output_type": "execute_result"
    }
   ],
   "source": [
    "'''data \n",
    "science is \n",
    "powerful ''' #slicing"
   ]
  },
  {
   "cell_type": "code",
   "execution_count": 38,
   "id": "14cd4f5a-a9cc-42ea-bdc5-7bbfc728f57d",
   "metadata": {},
   "outputs": [
    {
     "ename": "_IncompleteInputError",
     "evalue": "incomplete input (2760703839.py, line 1)",
     "output_type": "error",
     "traceback": [
      "\u001b[1;36m  Cell \u001b[1;32mIn[38], line 1\u001b[1;36m\u001b[0m\n\u001b[1;33m    '''data\u001b[0m\n\u001b[1;37m    ^\u001b[0m\n\u001b[1;31m_IncompleteInputError\u001b[0m\u001b[1;31m:\u001b[0m incomplete input\n"
     ]
    }
   ],
   "source": [
    "'''data \n",
    "science is \n",
    "powerful ''"
   ]
  },
  {
   "cell_type": "code",
   "execution_count": 8,
   "id": "dedc97df-b000-4224-a67f-04c54e48c985",
   "metadata": {},
   "outputs": [
    {
     "ename": "SyntaxError",
     "evalue": "unterminated string literal (detected at line 1) (1389648842.py, line 1)",
     "output_type": "error",
     "traceback": [
      "\u001b[1;36m  Cell \u001b[1;32mIn[8], line 1\u001b[1;36m\u001b[0m\n\u001b[1;33m    print ('doesn't')\u001b[0m\n\u001b[1;37m                   ^\u001b[0m\n\u001b[1;31mSyntaxError\u001b[0m\u001b[1;31m:\u001b[0m unterminated string literal (detected at line 1)\n"
     ]
    }
   ],
   "source": [
    "print ('doesn't')"
   ]
  },
  {
   "cell_type": "code",
   "execution_count": 9,
   "id": "4ba4cdb6-7885-4813-b298-fc7b86235b87",
   "metadata": {},
   "outputs": [
    {
     "name": "stdout",
     "output_type": "stream",
     "text": [
      "doesn't\n"
     ]
    }
   ],
   "source": [
    "print ('doesn\\'t')"
   ]
  },
  {
   "cell_type": "code",
   "execution_count": 10,
   "id": "6cd954dd-1d6e-4766-9a9d-11200b69a7cf",
   "metadata": {},
   "outputs": [
    {
     "name": "stdout",
     "output_type": "stream",
     "text": [
      "doesn't\n"
     ]
    }
   ],
   "source": [
    "print (\"doesn't\")"
   ]
  },
  {
   "cell_type": "code",
   "execution_count": 12,
   "id": "6f1aee10-9d2c-49e9-ba79-45a5205554d4",
   "metadata": {},
   "outputs": [
    {
     "ename": "SyntaxError",
     "evalue": "invalid syntax. Perhaps you forgot a comma? (633374134.py, line 1)",
     "output_type": "error",
     "traceback": [
      "\u001b[1;36m  Cell \u001b[1;32mIn[12], line 1\u001b[1;36m\u001b[0m\n\u001b[1;33m    print (\"\"wow\"she said\")\u001b[0m\n\u001b[1;37m           ^\u001b[0m\n\u001b[1;31mSyntaxError\u001b[0m\u001b[1;31m:\u001b[0m invalid syntax. Perhaps you forgot a comma?\n"
     ]
    }
   ],
   "source": [
    "print (\"\"wow\"she said\")"
   ]
  },
  {
   "cell_type": "code",
   "execution_count": 16,
   "id": "94bb7064-f3e6-4ad6-b3e5-b082a4676014",
   "metadata": {},
   "outputs": [
    {
     "name": "stdout",
     "output_type": "stream",
     "text": [
      "\"wow\" she said\n"
     ]
    }
   ],
   "source": [
    "print (\"\\\"wow\\\" she said\")"
   ]
  },
  {
   "cell_type": "code",
   "execution_count": 17,
   "id": "9246ff9d-e042-4b57-a36f-756c0a79fa12",
   "metadata": {},
   "outputs": [
    {
     "name": "stdout",
     "output_type": "stream",
     "text": [
      "\"wow\" \n",
      "she said\n"
     ]
    }
   ],
   "source": [
    "print (\"\\\"wow\\\" \\nshe said\")"
   ]
  },
  {
   "cell_type": "code",
   "execution_count": 18,
   "id": "fb61e611-b55f-4dca-9b88-c103b5cf30b8",
   "metadata": {},
   "outputs": [
    {
     "name": "stdout",
     "output_type": "stream",
     "text": [
      "my\n",
      "name\n"
     ]
    }
   ],
   "source": [
    "print('my\\nname')"
   ]
  },
  {
   "cell_type": "code",
   "execution_count": 19,
   "id": "a2f47c4d-643f-4368-a3b2-cd85e68202ee",
   "metadata": {},
   "outputs": [
    {
     "name": "stdout",
     "output_type": "stream",
     "text": [
      "c\n",
      "ame\n"
     ]
    }
   ],
   "source": [
    "print('c\\name')"
   ]
  },
  {
   "cell_type": "code",
   "execution_count": 20,
   "id": "6f5a85c9-007b-416e-bd89-4149b16f4aab",
   "metadata": {},
   "outputs": [
    {
     "name": "stdout",
     "output_type": "stream",
     "text": [
      "c\\name\n"
     ]
    }
   ],
   "source": [
    "print(r'c\\name') #raw string"
   ]
  },
  {
   "cell_type": "code",
   "execution_count": 23,
   "id": "9594b6df-052d-4be6-9eb8-cc5bc1ec8cd7",
   "metadata": {},
   "outputs": [
    {
     "name": "stdout",
     "output_type": "stream",
     "text": [
      "\n",
      "hello\n",
      "there\n"
     ]
    }
   ],
   "source": [
    "print(\"\"\"\n",
    "hello\n",
    "there\"\"\")"
   ]
  },
  {
   "cell_type": "code",
   "execution_count": 24,
   "id": "119108de-236d-4cfb-ac1a-9ae62431a900",
   "metadata": {},
   "outputs": [
    {
     "name": "stdout",
     "output_type": "stream",
     "text": [
      "hello\n",
      "there\n"
     ]
    }
   ],
   "source": [
    "print(\"\"\"\\ \n",
    "hello\n",
    "there\"\"\") # by adding \\ the initial line is not included"
   ]
  },
  {
   "cell_type": "code",
   "execution_count": 25,
   "id": "4019b66c-2a46-4f82-88c0-ff9c990b2523",
   "metadata": {},
   "outputs": [
    {
     "data": {
      "text/plain": [
       "'saysaysayali'"
      ]
     },
     "execution_count": 25,
     "metadata": {},
     "output_type": "execute_result"
    }
   ],
   "source": [
    "3* 'say'+ 'ali'"
   ]
  },
  {
   "cell_type": "code",
   "execution_count": 26,
   "id": "6ed7c9d1-efd6-401e-9aba-e83b0c8888fa",
   "metadata": {},
   "outputs": [
    {
     "name": "stdout",
     "output_type": "stream",
     "text": [
      "hellothere\n"
     ]
    }
   ],
   "source": [
    "print(\"hello\"\n",
    "\"there\")"
   ]
  },
  {
   "cell_type": "markdown",
   "id": "dc17c0d2-e349-4f02-8c11-f21078d5620b",
   "metadata": {},
   "source": [
    "# Index"
   ]
  },
  {
   "cell_type": "code",
   "execution_count": 21,
   "id": "b5499557-759e-40e7-b5c5-1680dab7093e",
   "metadata": {},
   "outputs": [
    {
     "name": "stdout",
     "output_type": "stream",
     "text": [
      "l\n"
     ]
    }
   ],
   "source": [
    "name = \"hello\"\n",
    "print (name[3])"
   ]
  },
  {
   "cell_type": "code",
   "execution_count": 22,
   "id": "188986cb-e185-4527-9a79-a31b16010956",
   "metadata": {},
   "outputs": [
    {
     "name": "stdout",
     "output_type": "stream",
     "text": [
      "o\n"
     ]
    }
   ],
   "source": [
    "name = \"hello\"\n",
    "print (name[-1])"
   ]
  },
  {
   "cell_type": "code",
   "execution_count": 23,
   "id": "0ec65779-aa5c-4211-8cfa-6e0dc9aa9aaa",
   "metadata": {},
   "outputs": [
    {
     "name": "stdout",
     "output_type": "stream",
     "text": [
      "i\n"
     ]
    }
   ],
   "source": [
    "name = \"hello sayali\"\n",
    "print (name[-1])"
   ]
  },
  {
   "cell_type": "code",
   "execution_count": 24,
   "id": "918337a9-9e02-48d0-a4dc-de219396f6e5",
   "metadata": {},
   "outputs": [
    {
     "name": "stdout",
     "output_type": "stream",
     "text": [
      "llo sayali\n"
     ]
    }
   ],
   "source": [
    "name = \"hello sayali\"\n",
    "print (name[2::])"
   ]
  },
  {
   "cell_type": "markdown",
   "id": "d0d209e1-8977-4b6c-bd1c-3d066fea87af",
   "metadata": {},
   "source": [
    "# Variable"
   ]
  },
  {
   "cell_type": "raw",
   "id": "161be41e-8b77-411b-af70-b659224349a4",
   "metadata": {},
   "source": [
    "Syntax : Variable = Value\n",
    "Rules 1.must start with letter and underscore\n",
    "      2.can contain digits but cannot start with it\n",
    "      3.case sensitive\n",
    "      4.cannot be a python keyword"
   ]
  },
  {
   "cell_type": "code",
   "execution_count": 12,
   "id": "7f94f87b-beb1-44b7-a182-f4a6df430cba",
   "metadata": {},
   "outputs": [
    {
     "name": "stdout",
     "output_type": "stream",
     "text": [
      "27\n"
     ]
    }
   ],
   "source": [
    "age = 27 # integer variable\n",
    "print (age)"
   ]
  },
  {
   "cell_type": "code",
   "execution_count": 13,
   "id": "fefb3fdd-6075-40b0-90f4-919e2c38ef7b",
   "metadata": {},
   "outputs": [
    {
     "name": "stdout",
     "output_type": "stream",
     "text": [
      "sayali\n"
     ]
    }
   ],
   "source": [
    "name = \"sayali\" # string variable\n",
    "print (name)\n"
   ]
  },
  {
   "cell_type": "code",
   "execution_count": 14,
   "id": "248d3106-15f9-4b5f-aebc-6b9adb7d85e4",
   "metadata": {},
   "outputs": [
    {
     "name": "stdout",
     "output_type": "stream",
     "text": [
      "True\n"
     ]
    }
   ],
   "source": [
    "is_active = True # boolen variable\n",
    "print (is_active)\n"
   ]
  },
  {
   "cell_type": "code",
   "execution_count": 15,
   "id": "1b59ecdc-f93c-4791-b738-1c5474bf30af",
   "metadata": {},
   "outputs": [
    {
     "name": "stdout",
     "output_type": "stream",
     "text": [
      "10\n"
     ]
    }
   ],
   "source": [
    "x=10\n",
    "print(x)"
   ]
  },
  {
   "cell_type": "code",
   "execution_count": 16,
   "id": "7b18520c-5122-46ce-abd4-e71d5bd28731",
   "metadata": {},
   "outputs": [
    {
     "name": "stdout",
     "output_type": "stream",
     "text": [
      "5\n"
     ]
    }
   ],
   "source": [
    "a = 2\n",
    "b = 3\n",
    "print ( a+b)"
   ]
  },
  {
   "cell_type": "code",
   "execution_count": 17,
   "id": "431748fd-7740-489d-8927-a2348868eb1a",
   "metadata": {},
   "outputs": [
    {
     "name": "stdout",
     "output_type": "stream",
     "text": [
      "10\n",
      "20\n"
     ]
    }
   ],
   "source": [
    "score = 10\n",
    "print (score)\n",
    "score = 20\n",
    "print (score)"
   ]
  },
  {
   "cell_type": "code",
   "execution_count": 18,
   "id": "5970853d-9b01-453f-b289-c5d5ef137081",
   "metadata": {},
   "outputs": [
    {
     "name": "stdout",
     "output_type": "stream",
     "text": [
      "sayali nade\n"
     ]
    }
   ],
   "source": [
    "first_name = \"sayali\"\n",
    "last_name = \"nade\"\n",
    "full_name = first_name +\" \" +last_name\n",
    "print(full_name)"
   ]
  },
  {
   "cell_type": "code",
   "execution_count": 19,
   "id": "8983ee36-603f-4462-9eab-7a8d488b1fa7",
   "metadata": {},
   "outputs": [
    {
     "name": "stdout",
     "output_type": "stream",
     "text": [
      "300\n"
     ]
    }
   ],
   "source": [
    "length = 10\n",
    "width = 30\n",
    "area = length * width \n",
    "print ( area )"
   ]
  },
  {
   "cell_type": "code",
   "execution_count": 20,
   "id": "247098fa-2d18-4108-bee4-af8e82a0e83e",
   "metadata": {},
   "outputs": [
    {
     "name": "stdout",
     "output_type": "stream",
     "text": [
      "10\n",
      "20\n"
     ]
    }
   ],
   "source": [
    "x = 10 \n",
    "print (x)\n",
    "x = 20 \n",
    "print (x)"
   ]
  },
  {
   "cell_type": "code",
   "execution_count": 3,
   "id": "397aa8df-a042-4122-b684-77f6554dbabf",
   "metadata": {},
   "outputs": [
    {
     "name": "stdout",
     "output_type": "stream",
     "text": [
      "First name: sayali\n",
      "First name length: 6\n",
      "Last name:  nade\n",
      "Last name length:  4\n",
      "Country:  india\n",
      "City:  latur\n",
      "Age:  27\n",
      "Married:  false\n",
      "Skills:  python\n"
     ]
    }
   ],
   "source": [
    "first_name = 'sayali'\n",
    "last_name = 'nade'\n",
    "country = 'india'\n",
    "city = 'latur'\n",
    "age = '27'\n",
    "is_married = 'false'\n",
    "skills = 'python'\n",
    "\n",
    "first_name\n",
    "last_name\n",
    "country\n",
    "city\n",
    "age\n",
    "is_married\n",
    "print('First name:', first_name)\n",
    "print('First name length:', len(first_name))\n",
    "print('Last name: ', last_name)\n",
    "print('Last name length: ', len(last_name))\n",
    "print('Country: ', country)\n",
    "print('City: ', city)\n",
    "print('Age: ', age)\n",
    "print('Married: ', is_married)\n",
    "print('Skills: ', skills)\n"
   ]
  },
  {
   "cell_type": "code",
   "execution_count": 74,
   "id": "10e17306-c062-402e-bb6d-657322135baa",
   "metadata": {},
   "outputs": [],
   "source": [
    "v = 14"
   ]
  },
  {
   "cell_type": "code",
   "execution_count": 75,
   "id": "4285a5e2-6d85-429d-8906-8cd1db486d03",
   "metadata": {},
   "outputs": [
    {
     "data": {
      "text/plain": [
       "14"
      ]
     },
     "execution_count": 75,
     "metadata": {},
     "output_type": "execute_result"
    }
   ],
   "source": [
    "v "
   ]
  },
  {
   "cell_type": "code",
   "execution_count": 76,
   "id": "f958fdaa-c451-4a6b-9e0e-7b52a6c4868e",
   "metadata": {},
   "outputs": [
    {
     "data": {
      "text/plain": [
       "140708336547144"
      ]
     },
     "execution_count": 76,
     "metadata": {},
     "output_type": "execute_result"
    }
   ],
   "source": [
    "id(v)\n"
   ]
  },
  {
   "cell_type": "code",
   "execution_count": 78,
   "id": "f3154d64-0f3b-402a-9cf5-bf4b2eda6326",
   "metadata": {},
   "outputs": [
    {
     "ename": "SyntaxError",
     "evalue": "cannot assign to literal here. Maybe you meant '==' instead of '='? (2278341752.py, line 1)",
     "output_type": "error",
     "traceback": [
      "\u001b[1;36m  Cell \u001b[1;32mIn[78], line 1\u001b[1;36m\u001b[0m\n\u001b[1;33m    14 = v # variable not start with number rule 1\u001b[0m\n\u001b[1;37m    ^\u001b[0m\n\u001b[1;31mSyntaxError\u001b[0m\u001b[1;31m:\u001b[0m cannot assign to literal here. Maybe you meant '==' instead of '='?\n"
     ]
    }
   ],
   "source": [
    "14 = v # variable should not start with number \n"
   ]
  },
  {
   "cell_type": "code",
   "execution_count": 79,
   "id": "3c64331b-23e0-4f9a-9e10-9139c87ea424",
   "metadata": {},
   "outputs": [
    {
     "ename": "SyntaxError",
     "evalue": "invalid decimal literal (453614628.py, line 1)",
     "output_type": "error",
     "traceback": [
      "\u001b[1;36m  Cell \u001b[1;32mIn[79], line 1\u001b[1;36m\u001b[0m\n\u001b[1;33m    14v = 26\u001b[0m\n\u001b[1;37m     ^\u001b[0m\n\u001b[1;31mSyntaxError\u001b[0m\u001b[1;31m:\u001b[0m invalid decimal literal\n"
     ]
    }
   ],
   "source": [
    "14v = 26"
   ]
  },
  {
   "cell_type": "code",
   "execution_count": 80,
   "id": "2d1230b8-0630-40b3-9486-edac4985776b",
   "metadata": {},
   "outputs": [
    {
     "data": {
      "text/plain": [
       "9"
      ]
     },
     "execution_count": 80,
     "metadata": {},
     "output_type": "execute_result"
    }
   ],
   "source": [
    "v14 = 9\n",
    "v14"
   ]
  },
  {
   "cell_type": "code",
   "execution_count": 81,
   "id": "f95830fb-93b0-4641-9385-9e7e095fa58a",
   "metadata": {},
   "outputs": [],
   "source": [
    "var = 14"
   ]
  },
  {
   "cell_type": "code",
   "execution_count": 1,
   "id": "6c3a586e-89cf-44f8-813a-378b0f3360b4",
   "metadata": {},
   "outputs": [
    {
     "ename": "NameError",
     "evalue": "name 'Var' is not defined",
     "output_type": "error",
     "traceback": [
      "\u001b[1;31m---------------------------------------------------------------------------\u001b[0m",
      "\u001b[1;31mNameError\u001b[0m                                 Traceback (most recent call last)",
      "Cell \u001b[1;32mIn[1], line 1\u001b[0m\n\u001b[1;32m----> 1\u001b[0m Var\n",
      "\u001b[1;31mNameError\u001b[0m: name 'Var' is not defined"
     ]
    }
   ],
   "source": [
    "Var # variable is case sensitive"
   ]
  },
  {
   "cell_type": "code",
   "execution_count": 89,
   "id": "a2ab3036-4b12-402e-856b-e082d48669d5",
   "metadata": {},
   "outputs": [
    {
     "ename": "NameError",
     "evalue": "name 'sayali' is not defined",
     "output_type": "error",
     "traceback": [
      "\u001b[1;31m---------------------------------------------------------------------------\u001b[0m",
      "\u001b[1;31mNameError\u001b[0m                                 Traceback (most recent call last)",
      "Cell \u001b[1;32mIn[89], line 2\u001b[0m\n\u001b[0;32m      1\u001b[0m say  \u001b[38;5;241m=\u001b[39m \u001b[38;5;241m24\u001b[39m \u001b[38;5;66;03m# call variable by which it is defined\u001b[39;00m\n\u001b[1;32m----> 2\u001b[0m sayali\n",
      "\u001b[1;31mNameError\u001b[0m: name 'sayali' is not defined"
     ]
    }
   ],
   "source": [
    "say  = 24 # call variable by which it is defined\n",
    "sayali"
   ]
  },
  {
   "cell_type": "code",
   "execution_count": 90,
   "id": "92aea8b3-f0f3-4044-89bb-a85cc248a0a6",
   "metadata": {},
   "outputs": [
    {
     "ename": "TypeError",
     "evalue": "cannot unpack non-iterable int object",
     "output_type": "error",
     "traceback": [
      "\u001b[1;31m---------------------------------------------------------------------------\u001b[0m",
      "\u001b[1;31mTypeError\u001b[0m                                 Traceback (most recent call last)",
      "Cell \u001b[1;32mIn[90], line 1\u001b[0m\n\u001b[1;32m----> 1\u001b[0m nike, puma \u001b[38;5;241m=\u001b[39m \u001b[38;5;241m4999\u001b[39m\n",
      "\u001b[1;31mTypeError\u001b[0m: cannot unpack non-iterable int object"
     ]
    }
   ],
   "source": [
    "nike, puma = 4999 # if there are two varibles there should be two values"
   ]
  },
  {
   "cell_type": "code",
   "execution_count": 91,
   "id": "a6f08913-17a1-4189-8eb0-23fdfd0d1cd7",
   "metadata": {},
   "outputs": [],
   "source": [
    "nike, puma = 4999 , 5999"
   ]
  },
  {
   "cell_type": "code",
   "execution_count": 92,
   "id": "931164a0-6ab7-4151-a11b-93992dd7ddcc",
   "metadata": {},
   "outputs": [
    {
     "data": {
      "text/plain": [
       "5999"
      ]
     },
     "execution_count": 92,
     "metadata": {},
     "output_type": "execute_result"
    }
   ],
   "source": [
    "nike\n",
    "puma "
   ]
  },
  {
   "cell_type": "code",
   "execution_count": 93,
   "id": "c13e2ea5-fa75-4dc1-b4e8-c83052418738",
   "metadata": {},
   "outputs": [
    {
     "name": "stdout",
     "output_type": "stream",
     "text": [
      "4999\n",
      "5999\n"
     ]
    }
   ],
   "source": [
    "print (nike)\n",
    "print(puma)"
   ]
  },
  {
   "cell_type": "code",
   "execution_count": 95,
   "id": "753d124d-c88f-4bc7-8b43-cfad2ee8ea97",
   "metadata": {},
   "outputs": [
    {
     "ename": "SyntaxError",
     "evalue": "invalid syntax (1808524256.py, line 1)",
     "output_type": "error",
     "traceback": [
      "\u001b[1;36m  Cell \u001b[1;32mIn[95], line 1\u001b[1;36m\u001b[0m\n\u001b[1;33m    nike$ = 7\u001b[0m\n\u001b[1;37m        ^\u001b[0m\n\u001b[1;31mSyntaxError\u001b[0m\u001b[1;31m:\u001b[0m invalid syntax\n"
     ]
    }
   ],
   "source": [
    "nike$ = 7 #cannot contain special characters except _"
   ]
  },
  {
   "cell_type": "code",
   "execution_count": 99,
   "id": "383c8179-78ed-4c84-86e4-bb55385feb3f",
   "metadata": {},
   "outputs": [
    {
     "ename": "NameError",
     "evalue": "name 'qwerty' is not defined",
     "output_type": "error",
     "traceback": [
      "\u001b[1;31m---------------------------------------------------------------------------\u001b[0m",
      "\u001b[1;31mNameError\u001b[0m                                 Traceback (most recent call last)",
      "Cell \u001b[1;32mIn[99], line 1\u001b[0m\n\u001b[1;32m----> 1\u001b[0m qwerty\n",
      "\u001b[1;31mNameError\u001b[0m: name 'qwerty' is not defined"
     ]
    }
   ],
   "source": [
    "qwerty# =7 "
   ]
  },
  {
   "cell_type": "code",
   "execution_count": 100,
   "id": "209e1e9f-065d-40b4-83d9-9e081e884ad2",
   "metadata": {},
   "outputs": [],
   "source": [
    "nikes_puma = 7 "
   ]
  },
  {
   "cell_type": "code",
   "execution_count": 101,
   "id": "78eafcbe-21ed-45c8-b7ac-89724d26ad68",
   "metadata": {},
   "outputs": [
    {
     "data": {
      "text/plain": [
       "<function print(*args, sep=' ', end='\\n', file=None, flush=False)>"
      ]
     },
     "execution_count": 101,
     "metadata": {},
     "output_type": "execute_result"
    }
   ],
   "source": [
    "print #variables cannot be the keywords"
   ]
  },
  {
   "cell_type": "code",
   "execution_count": 102,
   "id": "2b707613-f40c-48ca-86e5-3acee7e044cd",
   "metadata": {},
   "outputs": [
    {
     "ename": "SyntaxError",
     "evalue": "Expected one or more names after 'import' (2125240012.py, line 1)",
     "output_type": "error",
     "traceback": [
      "\u001b[1;36m  Cell \u001b[1;32mIn[102], line 1\u001b[1;36m\u001b[0m\n\u001b[1;33m    import\u001b[0m\n\u001b[1;37m          ^\u001b[0m\n\u001b[1;31mSyntaxError\u001b[0m\u001b[1;31m:\u001b[0m Expected one or more names after 'import'\n"
     ]
    }
   ],
   "source": [
    "import #variables cannot be the keywords"
   ]
  },
  {
   "cell_type": "code",
   "execution_count": 2,
   "id": "178c4233-6064-48ad-aab0-d59b1cdd5dcd",
   "metadata": {},
   "outputs": [
    {
     "ename": "SyntaxError",
     "evalue": "invalid syntax (1646028014.py, line 1)",
     "output_type": "error",
     "traceback": [
      "\u001b[1;36m  Cell \u001b[1;32mIn[2], line 1\u001b[1;36m\u001b[0m\n\u001b[1;33m    if = 6\u001b[0m\n\u001b[1;37m       ^\u001b[0m\n\u001b[1;31mSyntaxError\u001b[0m\u001b[1;31m:\u001b[0m invalid syntax\n"
     ]
    }
   ],
   "source": [
    "if = 6 \n",
    "if #variables cannot be the keywords"
   ]
  },
  {
   "cell_type": "code",
   "execution_count": 3,
   "id": "d66830b6-ae88-42f4-bca1-70c9ea227b34",
   "metadata": {},
   "outputs": [
    {
     "data": {
      "text/plain": [
       "['False',\n",
       " 'None',\n",
       " 'True',\n",
       " 'and',\n",
       " 'as',\n",
       " 'assert',\n",
       " 'async',\n",
       " 'await',\n",
       " 'break',\n",
       " 'class',\n",
       " 'continue',\n",
       " 'def',\n",
       " 'del',\n",
       " 'elif',\n",
       " 'else',\n",
       " 'except',\n",
       " 'finally',\n",
       " 'for',\n",
       " 'from',\n",
       " 'global',\n",
       " 'if',\n",
       " 'import',\n",
       " 'in',\n",
       " 'is',\n",
       " 'lambda',\n",
       " 'nonlocal',\n",
       " 'not',\n",
       " 'or',\n",
       " 'pass',\n",
       " 'raise',\n",
       " 'return',\n",
       " 'try',\n",
       " 'while',\n",
       " 'with',\n",
       " 'yield']"
      ]
     },
     "execution_count": 3,
     "metadata": {},
     "output_type": "execute_result"
    }
   ],
   "source": [
    "import keyword\n",
    "keyword.kwlist"
   ]
  },
  {
   "cell_type": "code",
   "execution_count": 4,
   "id": "fe0e62fa-673e-4430-97bc-df68272b2f80",
   "metadata": {},
   "outputs": [
    {
     "data": {
      "text/plain": [
       "35"
      ]
     },
     "execution_count": 4,
     "metadata": {},
     "output_type": "execute_result"
    }
   ],
   "source": [
    "len(keyword.kwlist)"
   ]
  },
  {
   "cell_type": "markdown",
   "id": "bbaedb50-3e96-4f52-9bc5-feca59683445",
   "metadata": {},
   "source": [
    "# Datatypes"
   ]
  },
  {
   "cell_type": "code",
   "execution_count": 72,
   "id": "f937ac4f-f5b0-44fe-8252-2c0e94b6d779",
   "metadata": {},
   "outputs": [
    {
     "ename": "TypeError",
     "evalue": "type() takes 1 or 3 arguments",
     "output_type": "error",
     "traceback": [
      "\u001b[1;31m---------------------------------------------------------------------------\u001b[0m",
      "\u001b[1;31mTypeError\u001b[0m                                 Traceback (most recent call last)",
      "Cell \u001b[1;32mIn[72], line 1\u001b[0m\n\u001b[1;32m----> 1\u001b[0m \u001b[38;5;28mtype\u001b[39m()\n",
      "\u001b[1;31mTypeError\u001b[0m: type() takes 1 or 3 arguments"
     ]
    }
   ],
   "source": [
    "type()"
   ]
  },
  {
   "cell_type": "code",
   "execution_count": 4,
   "id": "2b0b11b3-9b9e-4ca7-b777-55cbbea7d5a8",
   "metadata": {},
   "outputs": [
    {
     "name": "stdout",
     "output_type": "stream",
     "text": [
      "<class 'complex'>\n",
      "<class 'str'>\n",
      "<class 'list'>\n",
      "<class 'dict'>\n",
      "<class 'set'>\n",
      "<class 'tuple'>\n",
      "<class 'bool'>\n",
      "<class 'bool'>\n"
     ]
    }
   ],
   "source": [
    "print(type(1 + 3j))              # Complex\n",
    "print(type('Asabeneh'))          # String\n",
    "print(type([1, 2, 3]))           # List\n",
    "print(type({'name':'Asabeneh'})) # Dictionary\n",
    "print(type({9.8, 3.14, 2.7}))    # Set\n",
    "print(type((9.8, 3.14, 2.7)))    # Tuple\n",
    "print(type(3 == 3))              # Bool\n",
    "print(type(3 >= 3))              # Bool\n"
   ]
  },
  {
   "cell_type": "markdown",
   "id": "42ebe314-4a6a-4633-a9f7-d413c37c2a26",
   "metadata": {},
   "source": [
    "# Integer"
   ]
  },
  {
   "cell_type": "code",
   "execution_count": 57,
   "id": "7ad33689-8ee8-4c67-8a0e-5748493e1594",
   "metadata": {},
   "outputs": [],
   "source": [
    "i= 14"
   ]
  },
  {
   "cell_type": "code",
   "execution_count": 58,
   "id": "38315d6f-d4b1-48e5-b069-f8693b9044dd",
   "metadata": {},
   "outputs": [
    {
     "data": {
      "text/plain": [
       "int"
      ]
     },
     "execution_count": 58,
     "metadata": {},
     "output_type": "execute_result"
    }
   ],
   "source": [
    "type(i)"
   ]
  },
  {
   "cell_type": "markdown",
   "id": "805f0e3f-910d-4520-8f18-58c45fc8e02c",
   "metadata": {},
   "source": [
    "# float"
   ]
  },
  {
   "cell_type": "code",
   "execution_count": 64,
   "id": "178626c2-cc74-43e0-bef7-fd80cb92f6f1",
   "metadata": {},
   "outputs": [],
   "source": [
    "f = 5.4"
   ]
  },
  {
   "cell_type": "code",
   "execution_count": 65,
   "id": "d5f36bb0-283f-476d-b8d5-27367b8cfe0c",
   "metadata": {},
   "outputs": [
    {
     "data": {
      "text/plain": [
       "float"
      ]
     },
     "execution_count": 65,
     "metadata": {},
     "output_type": "execute_result"
    }
   ],
   "source": [
    "type(f)"
   ]
  },
  {
   "cell_type": "code",
   "execution_count": 71,
   "id": "2189e506-19a9-4c39-95c4-9843c5ad71f3",
   "metadata": {},
   "outputs": [],
   "source": [
    "shoes_price = 499.50"
   ]
  },
  {
   "cell_type": "code",
   "execution_count": 67,
   "id": "69061127-7f90-4ad5-ae30-dfb34c623789",
   "metadata": {},
   "outputs": [
    {
     "data": {
      "text/plain": [
       "499.5"
      ]
     },
     "execution_count": 67,
     "metadata": {},
     "output_type": "execute_result"
    }
   ],
   "source": [
    "shoes_price"
   ]
  },
  {
   "cell_type": "code",
   "execution_count": 68,
   "id": "4231cd31-44bd-4d45-a620-cf3a08bc7b43",
   "metadata": {},
   "outputs": [
    {
     "data": {
      "text/plain": [
       "1.0"
      ]
     },
     "execution_count": 68,
     "metadata": {},
     "output_type": "execute_result"
    }
   ],
   "source": [
    "f1 = 1e0\n",
    "f1"
   ]
  },
  {
   "cell_type": "code",
   "execution_count": 69,
   "id": "10d65721-9fd5-48de-9e65-5512abbf8c15",
   "metadata": {},
   "outputs": [
    {
     "data": {
      "text/plain": [
       "float"
      ]
     },
     "execution_count": 69,
     "metadata": {},
     "output_type": "execute_result"
    }
   ],
   "source": [
    "type (f1)"
   ]
  },
  {
   "cell_type": "code",
   "execution_count": 70,
   "id": "40465f5b-4ab5-4d5e-9f8d-9a2feefab21a",
   "metadata": {},
   "outputs": [
    {
     "data": {
      "text/plain": [
       "20.0"
      ]
     },
     "execution_count": 70,
     "metadata": {},
     "output_type": "execute_result"
    }
   ],
   "source": [
    "f2 = 2e1 #only e/E is allowed e to the power 0 is 1 ;e to the power 1 is 10 and so on\n",
    "f2"
   ]
  },
  {
   "cell_type": "code",
   "execution_count": 5,
   "id": "c5d70c2e-f68a-41b2-bb2c-66febbebe6ea",
   "metadata": {},
   "outputs": [
    {
     "data": {
      "text/plain": [
       "240.0"
      ]
     },
     "execution_count": 5,
     "metadata": {},
     "output_type": "execute_result"
    }
   ],
   "source": [
    "f3 = 2.4e2 # 2.4*100.0\n",
    "f3"
   ]
  },
  {
   "cell_type": "code",
   "execution_count": 6,
   "id": "8c95fc95-80da-4039-876f-c6bb565bf7f9",
   "metadata": {},
   "outputs": [
    {
     "data": {
      "text/plain": [
       "2500.0"
      ]
     },
     "execution_count": 6,
     "metadata": {},
     "output_type": "execute_result"
    }
   ],
   "source": [
    "f4 = 2.5E3\n",
    "f4"
   ]
  },
  {
   "cell_type": "code",
   "execution_count": 7,
   "id": "09632519-5e21-4da3-8840-322df02d9d8d",
   "metadata": {},
   "outputs": [
    {
     "ename": "SyntaxError",
     "evalue": "invalid decimal literal (845237051.py, line 1)",
     "output_type": "error",
     "traceback": [
      "\u001b[1;36m  Cell \u001b[1;32mIn[7], line 1\u001b[1;36m\u001b[0m\n\u001b[1;33m    f5 = 2a1\u001b[0m\n\u001b[1;37m         ^\u001b[0m\n\u001b[1;31mSyntaxError\u001b[0m\u001b[1;31m:\u001b[0m invalid decimal literal\n"
     ]
    }
   ],
   "source": [
    "f5 = 2a1\n",
    "f5"
   ]
  },
  {
   "cell_type": "markdown",
   "id": "5a4cb0dc-34f7-4744-b94c-5f2af3da0d1e",
   "metadata": {},
   "source": [
    "# boolean"
   ]
  },
  {
   "cell_type": "code",
   "execution_count": 49,
   "id": "3fa31b36-a711-417f-8d9d-6a1abae0975c",
   "metadata": {},
   "outputs": [
    {
     "data": {
      "text/plain": [
       "True"
      ]
     },
     "execution_count": 49,
     "metadata": {},
     "output_type": "execute_result"
    }
   ],
   "source": [
    "True"
   ]
  },
  {
   "cell_type": "code",
   "execution_count": 51,
   "id": "e8eeb93c-b153-4ad9-bf99-1bd8b4501fa1",
   "metadata": {},
   "outputs": [
    {
     "ename": "NameError",
     "evalue": "name 'true' is not defined",
     "output_type": "error",
     "traceback": [
      "\u001b[1;31m---------------------------------------------------------------------------\u001b[0m",
      "\u001b[1;31mNameError\u001b[0m                                 Traceback (most recent call last)",
      "Cell \u001b[1;32mIn[51], line 1\u001b[0m\n\u001b[1;32m----> 1\u001b[0m true\n",
      "\u001b[1;31mNameError\u001b[0m: name 'true' is not defined"
     ]
    }
   ],
   "source": [
    "true # True False None always start with capital"
   ]
  },
  {
   "cell_type": "code",
   "execution_count": 50,
   "id": "77d2a1ef-b353-43c2-979a-5764f183a6c3",
   "metadata": {},
   "outputs": [
    {
     "data": {
      "text/plain": [
       "False"
      ]
     },
     "execution_count": 50,
     "metadata": {},
     "output_type": "execute_result"
    }
   ],
   "source": [
    "False"
   ]
  },
  {
   "cell_type": "code",
   "execution_count": 52,
   "id": "025480a7-5bca-4fcc-9242-8377c3dce5de",
   "metadata": {},
   "outputs": [
    {
     "data": {
      "text/plain": [
       "1"
      ]
     },
     "execution_count": 52,
     "metadata": {},
     "output_type": "execute_result"
    }
   ],
   "source": [
    "True + False # true = 1 false = 0"
   ]
  },
  {
   "cell_type": "code",
   "execution_count": 53,
   "id": "00fa6a6d-c6ed-41c1-921b-dedd405873c0",
   "metadata": {},
   "outputs": [
    {
     "data": {
      "text/plain": [
       "2"
      ]
     },
     "execution_count": 53,
     "metadata": {},
     "output_type": "execute_result"
    }
   ],
   "source": [
    "True + True"
   ]
  },
  {
   "cell_type": "code",
   "execution_count": 54,
   "id": "8f20e654-fffb-4427-bd2f-d18a06bca4c1",
   "metadata": {},
   "outputs": [
    {
     "data": {
      "text/plain": [
       "0"
      ]
     },
     "execution_count": 54,
     "metadata": {},
     "output_type": "execute_result"
    }
   ],
   "source": [
    "True * False"
   ]
  },
  {
   "cell_type": "code",
   "execution_count": 55,
   "id": "58a382e4-c5a0-424c-912f-e707ba39854a",
   "metadata": {},
   "outputs": [
    {
     "data": {
      "text/plain": [
       "0.0"
      ]
     },
     "execution_count": 55,
     "metadata": {},
     "output_type": "execute_result"
    }
   ],
   "source": [
    " False/ True"
   ]
  },
  {
   "cell_type": "code",
   "execution_count": 56,
   "id": "745afdbb-7669-4a92-b448-302dc93868dd",
   "metadata": {},
   "outputs": [
    {
     "ename": "ZeroDivisionError",
     "evalue": "division by zero",
     "output_type": "error",
     "traceback": [
      "\u001b[1;31m---------------------------------------------------------------------------\u001b[0m",
      "\u001b[1;31mZeroDivisionError\u001b[0m                         Traceback (most recent call last)",
      "Cell \u001b[1;32mIn[56], line 1\u001b[0m\n\u001b[1;32m----> 1\u001b[0m \u001b[38;5;28;01mTrue\u001b[39;00m \u001b[38;5;241m/\u001b[39m \u001b[38;5;28;01mFalse\u001b[39;00m\n",
      "\u001b[1;31mZeroDivisionError\u001b[0m: division by zero"
     ]
    }
   ],
   "source": [
    "True / False"
   ]
  },
  {
   "cell_type": "raw",
   "id": "4b04341f-1990-4d70-b101-a8d73f2410e0",
   "metadata": {},
   "source": [
    "#zerodivision error is a runtime error"
   ]
  },
  {
   "cell_type": "code",
   "execution_count": null,
   "id": "e6bd7121-6679-47d6-9e7a-ea02e9179673",
   "metadata": {},
   "outputs": [],
   "source": []
  },
  {
   "cell_type": "code",
   "execution_count": null,
   "id": "5f5efbb0-e590-4db1-bee0-4dfc394427d0",
   "metadata": {},
   "outputs": [],
   "source": []
  },
  {
   "cell_type": "code",
   "execution_count": null,
   "id": "bae6510d-61b5-4437-b295-38579711fe41",
   "metadata": {},
   "outputs": [],
   "source": []
  },
  {
   "cell_type": "code",
   "execution_count": null,
   "id": "964dc241-1bbc-4946-a90a-e7956f3466e4",
   "metadata": {},
   "outputs": [],
   "source": []
  },
  {
   "cell_type": "code",
   "execution_count": null,
   "id": "b4e0d5ee-813b-41fa-b817-24bcf9b4e859",
   "metadata": {},
   "outputs": [],
   "source": []
  }
 ],
 "metadata": {
  "kernelspec": {
   "display_name": "Python [conda env:base] *",
   "language": "python",
   "name": "conda-base-py"
  },
  "language_info": {
   "codemirror_mode": {
    "name": "ipython",
    "version": 3
   },
   "file_extension": ".py",
   "mimetype": "text/x-python",
   "name": "python",
   "nbconvert_exporter": "python",
   "pygments_lexer": "ipython3",
   "version": "3.13.5"
  }
 },
 "nbformat": 4,
 "nbformat_minor": 5
}
